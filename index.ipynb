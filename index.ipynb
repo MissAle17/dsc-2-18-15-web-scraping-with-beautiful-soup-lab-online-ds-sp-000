{
 "cells": [
  {
   "cell_type": "markdown",
   "metadata": {},
   "source": [
    "# Web Scraping with Beautiful Soup - Lab"
   ]
  },
  {
   "cell_type": "markdown",
   "metadata": {},
   "source": [
    "## Introduction\n",
    "\n",
    "Now that you've read and seen some docmentation regarding the use of Beautiful Soup, its time to practice and put that to work! In this lab you'll formalize some of our example code into functions and scrape the lyrics from an artist of your choice."
   ]
  },
  {
   "cell_type": "markdown",
   "metadata": {},
   "source": [
    "## Objectives\n",
    "You will be able to:\n",
    "* Scrape Static webpages\n",
    "* Select specific elements from the DOM"
   ]
  },
  {
   "cell_type": "markdown",
   "metadata": {},
   "source": [
    "## Link Scraping\n",
    "\n",
    "Write a function to collect the links to each of the song pages from a given artist page."
   ]
  },
  {
   "cell_type": "code",
   "execution_count": 8,
   "metadata": {},
   "outputs": [],
   "source": [
    "#Starter Code\n",
    "\n",
    "from bs4 import BeautifulSoup\n",
    "import requests\n",
    "\n",
    "\n",
    "url = 'https://www.azlyrics.com/l/lilyallen.html' #Put the URL of your AZLyrics Artist Page here!\n",
    "\n",
    "html_page = requests.get(url) #Make a get request to retrieve the page\n",
    "soup = BeautifulSoup(html_page.content, 'html.parser') #Pass the page contents to beautiful soup for parsing"
   ]
  },
  {
   "cell_type": "code",
   "execution_count": 9,
   "metadata": {},
   "outputs": [
    {
     "name": "stdout",
     "output_type": "stream",
     "text": [
      "<!DOCTYPE html>\n",
      "<html lang=\"en\">\n",
      " <head>\n",
      "  <meta charset=\"utf-8\"/>\n",
      "  <meta content=\"IE=edge\" http-equiv=\"X-UA-Compatible\"/>\n",
      "  <meta content=\"width=device-width, initial-scale=1\" name=\"viewport\"/>\n",
      "  <!-- The above 3 meta tags *must* come first in the head; any other head content must come *after* these tags -->\n",
      "  <meta content='Lily Allen lyrics - 83 song lyrics sorted by album, including \"Fuck You (Very Much)\", \"Somewhere Only We Know\", \"Smile\".' name=\"description\"/>\n",
      "  <meta content=\"Lily Allen, Lily Allen lyrics, discography, albums, songs\" name=\"keywords\"/>\n",
      "  <meta content=\"noarchive\" name=\"robots\"/>\n",
      "  <title>\n",
      "   Lily Allen Lyrics\n",
      "  </title>\n",
      "  <link href=\"https://maxcdn.bootstrapcdn.com/bootstrap/3.3.4/css/bootstrap.min.css\" rel=\"stylesheet\"/>\n",
      "  <link href=\"//www.azlyrics.com/bsaz.css\" rel=\"stylesheet\"/>\n",
      "  <!-- HTML5 shim and Respond.js for IE8 support of HTML5 elements and media queries -->\n",
      "  <!--[if lt IE 9]>\r\n",
      "<script src=\"https://oss.maxcdn.com/html5shiv/3.7.2/html5shiv.min.js\"></\n"
     ]
    }
   ],
   "source": [
    "print(soup.prettify()[:1000])"
   ]
  },
  {
   "cell_type": "code",
   "execution_count": 11,
   "metadata": {},
   "outputs": [],
   "source": [
    "def grab_song_links(artist_page_url):\n",
    "\n",
    "    url = artist_page_url\n",
    "\n",
    "    html_page = requests.get(url) #Make a get request to retrieve the page\n",
    "    soup = BeautifulSoup(html_page.content, 'html.parser') #Pass the page contents to beautiful soup for parsing\n",
    "\n",
    "\n",
    "    #The example from our lecture/reading\n",
    "    data = [] #Create a storage container\n",
    "\n",
    "    #Get album divs\n",
    "    albums = soup.find_all(\"div\", class_=\"album\")\n",
    "    for album_n in range(len(albums)):\n",
    "        #On the last album, we won't be able to look forward\n",
    "        if album_n == len(albums)-1:\n",
    "            cur_album = albums[album_n]\n",
    "            album_songs = cur_album.findNextSiblings('a')\n",
    "            for song in album_songs:\n",
    "                page = song.get('href')\n",
    "                title = song.text\n",
    "                album = cur_album.text\n",
    "                data.append((title, page, album))\n",
    "        else:\n",
    "            cur_album = albums[album_n]\n",
    "            next_album = albums[album_n+1]\n",
    "            saca = cur_album.findNextSiblings('a') #songs after current album\n",
    "            sbna = next_album.findPreviousSiblings('a') #songs before next album\n",
    "            album_songs = [song for song in saca if song in sbna] #album songs are those listed after the current album but before the next one!\n",
    "            for song in album_songs:\n",
    "                page = song.get('href')\n",
    "                title = song.text\n",
    "                album = cur_album.text\n",
    "                data.append((title, page, album))\n",
    "    return data"
   ]
  },
  {
   "cell_type": "code",
   "execution_count": 12,
   "metadata": {},
   "outputs": [
    {
     "data": {
      "text/plain": [
       "[('Smile', '../lyrics/lilyallen/smile.html', 'album: \"Alright, Still\" (2006)'),\n",
       " (\"Knock 'Em Out\",\n",
       "  '../lyrics/lilyallen/knockemout.html',\n",
       "  'album: \"Alright, Still\" (2006)'),\n",
       " ('LDN', '../lyrics/lilyallen/ldn.html', 'album: \"Alright, Still\" (2006)'),\n",
       " (\"Everything's Just Wonderful\",\n",
       "  '../lyrics/lilyallen/everythingsjustwonderful.html',\n",
       "  'album: \"Alright, Still\" (2006)'),\n",
       " ('Not Big',\n",
       "  '../lyrics/lilyallen/notbig.html',\n",
       "  'album: \"Alright, Still\" (2006)'),\n",
       " ('Friday Night',\n",
       "  '../lyrics/lilyallen/fridaynight.html',\n",
       "  'album: \"Alright, Still\" (2006)'),\n",
       " ('Shame For You',\n",
       "  '../lyrics/lilyallen/shameforyou.html',\n",
       "  'album: \"Alright, Still\" (2006)'),\n",
       " ('Littlest Things',\n",
       "  '../lyrics/lilyallen/littlestthings.html',\n",
       "  'album: \"Alright, Still\" (2006)'),\n",
       " ('Take What You Take',\n",
       "  '../lyrics/lilyallen/takewhatyoutake.html',\n",
       "  'album: \"Alright, Still\" (2006)'),\n",
       " ('Friend Of Mine',\n",
       "  '../lyrics/lilyallen/friendofmine.html',\n",
       "  'album: \"Alright, Still\" (2006)'),\n",
       " ('Alfie', '../lyrics/lilyallen/alfie.html', 'album: \"Alright, Still\" (2006)'),\n",
       " (\"Nan You're A Window Shopper\",\n",
       "  '../lyrics/lilyallen/nanyoureawindowshopper.html',\n",
       "  'album: \"Alright, Still\" (2006)'),\n",
       " ('Blank Expression',\n",
       "  '../lyrics/lilyallen/blankexpression.html',\n",
       "  'album: \"Alright, Still\" (2006)'),\n",
       " ('Cheryl Tweedy',\n",
       "  '../lyrics/lilyallen/cheryltweedy.html',\n",
       "  'album: \"Alright, Still\" (2006)'),\n",
       " ('Absolutely Nothing',\n",
       "  '../lyrics/lilyallen/absolutelynothing.html',\n",
       "  'album: \"Alright, Still\" (2006)'),\n",
       " ('Mr. Blue Sky',\n",
       "  '../lyrics/lilyallen/mrbluesky.html',\n",
       "  'album: \"Alright, Still\" (2006)'),\n",
       " ('U Killed It',\n",
       "  '../lyrics/lilyallen/ukilledit.html',\n",
       "  'album: \"Alright, Still\" (2006)'),\n",
       " (\"Everybody's Changing\",\n",
       "  '../lyrics/lilyallen/everybodyschanging.html',\n",
       "  'album: \"Alright, Still\" (2006)'),\n",
       " ('Naïve', '../lyrics/lilyallen/nave.html', 'album: \"Alright, Still\" (2006)'),\n",
       " ('', None, 'album: \"Alright, Still\" (2006)'),\n",
       " (\"Everyone's At It\",\n",
       "  '../lyrics/lilyallen/everyonesatit.html',\n",
       "  'album: \"It\\'s Not Me, It\\'s You\" (2009)'),\n",
       " ('The Fear',\n",
       "  '../lyrics/lilyallen/thefear.html',\n",
       "  'album: \"It\\'s Not Me, It\\'s You\" (2009)'),\n",
       " ('Not Fair',\n",
       "  '../lyrics/lilyallen/notfair.html',\n",
       "  'album: \"It\\'s Not Me, It\\'s You\" (2009)'),\n",
       " ('22',\n",
       "  '../lyrics/lilyallen/22.html',\n",
       "  'album: \"It\\'s Not Me, It\\'s You\" (2009)'),\n",
       " ('I Could Say',\n",
       "  '../lyrics/lilyallen/icouldsay.html',\n",
       "  'album: \"It\\'s Not Me, It\\'s You\" (2009)'),\n",
       " ('Back To The Start',\n",
       "  '../lyrics/lilyallen/backtothestart.html',\n",
       "  'album: \"It\\'s Not Me, It\\'s You\" (2009)'),\n",
       " ('Never Gonna Happen',\n",
       "  '../lyrics/lilyallen/nevergonnahappen.html',\n",
       "  'album: \"It\\'s Not Me, It\\'s You\" (2009)'),\n",
       " ('Fuck You (Very Much)',\n",
       "  '../lyrics/lilyallen/fuckyouverymuch.html',\n",
       "  'album: \"It\\'s Not Me, It\\'s You\" (2009)'),\n",
       " (\"Who'd Have Known\",\n",
       "  '../lyrics/lilyallen/whodhaveknown.html',\n",
       "  'album: \"It\\'s Not Me, It\\'s You\" (2009)'),\n",
       " ('Chinese',\n",
       "  '../lyrics/lilyallen/chinese.html',\n",
       "  'album: \"It\\'s Not Me, It\\'s You\" (2009)'),\n",
       " ('Him',\n",
       "  '../lyrics/lilyallen/him.html',\n",
       "  'album: \"It\\'s Not Me, It\\'s You\" (2009)'),\n",
       " (\"He Wasn't There\",\n",
       "  '../lyrics/lilyallen/hewasntthere.html',\n",
       "  'album: \"It\\'s Not Me, It\\'s You\" (2009)'),\n",
       " ('Kabul Shit',\n",
       "  '../lyrics/lilyallen/kabulshit.html',\n",
       "  'album: \"It\\'s Not Me, It\\'s You\" (2009)'),\n",
       " ('Fag Hag',\n",
       "  '../lyrics/lilyallen/faghag.html',\n",
       "  'album: \"It\\'s Not Me, It\\'s You\" (2009)'),\n",
       " ('', None, 'album: \"It\\'s Not Me, It\\'s You\" (2009)'),\n",
       " ('Sheezus', '../lyrics/lilyallen/sheezus.html', 'album: \"Sheezus\" (2014)'),\n",
       " ('L8 CMMR', '../lyrics/lilyallen/l8cmmr.html', 'album: \"Sheezus\" (2014)'),\n",
       " ('Air Balloon',\n",
       "  '../lyrics/lilyallen/airballoon.html',\n",
       "  'album: \"Sheezus\" (2014)'),\n",
       " ('Our Time', '../lyrics/lilyallen/ourtime.html', 'album: \"Sheezus\" (2014)'),\n",
       " ('Insincerely Yours',\n",
       "  '../lyrics/lilyallen/insincerelyyours.html',\n",
       "  'album: \"Sheezus\" (2014)'),\n",
       " ('Take My Place',\n",
       "  '../lyrics/lilyallen/takemyplace.html',\n",
       "  'album: \"Sheezus\" (2014)'),\n",
       " ('As Long As I Got You',\n",
       "  '../lyrics/lilyallen/aslongasigotyou.html',\n",
       "  'album: \"Sheezus\" (2014)'),\n",
       " ('Close Your Eyes',\n",
       "  '../lyrics/lilyallen/closeyoureyes.html',\n",
       "  'album: \"Sheezus\" (2014)'),\n",
       " ('URL Badman',\n",
       "  '../lyrics/lilyallen/urlbadman.html',\n",
       "  'album: \"Sheezus\" (2014)'),\n",
       " ('Silver Spoon',\n",
       "  '../lyrics/lilyallen/silverspoon.html',\n",
       "  'album: \"Sheezus\" (2014)'),\n",
       " ('Life For Me',\n",
       "  '../lyrics/lilyallen/lifeforme.html',\n",
       "  'album: \"Sheezus\" (2014)'),\n",
       " ('Hard Out Here',\n",
       "  '../lyrics/lilyallen/hardouthere.html',\n",
       "  'album: \"Sheezus\" (2014)'),\n",
       " ('Interlude',\n",
       "  '../lyrics/lilyallen/interlude.html',\n",
       "  'album: \"Sheezus\" (2014)'),\n",
       " ('Somewhere Only We Know',\n",
       "  '../lyrics/lilyallen/somewhereonlyweknow.html',\n",
       "  'album: \"Sheezus\" (2014)'),\n",
       " ('Wind Your Neck In',\n",
       "  '../lyrics/lilyallen/windyourneckin.html',\n",
       "  'album: \"Sheezus\" (2014)'),\n",
       " ('Who Do You Love?',\n",
       "  '../lyrics/lilyallen/whodoyoulove.html',\n",
       "  'album: \"Sheezus\" (2014)'),\n",
       " ('Miserable Without Your Love',\n",
       "  '../lyrics/lilyallen/miserablewithoutyourlove.html',\n",
       "  'album: \"Sheezus\" (2014)'),\n",
       " ('Holding On To Nothing',\n",
       "  '../lyrics/lilyallen/holdingontonothing.html',\n",
       "  'album: \"Sheezus\" (2014)'),\n",
       " ('', None, 'album: \"Sheezus\" (2014)'),\n",
       " ('Come On Then',\n",
       "  '../lyrics/lilyallen/comeonthen.html',\n",
       "  'album: \"No Shame\" (2018)'),\n",
       " ('Trigger Bang',\n",
       "  '../lyrics/lilyallen/triggerbang.html',\n",
       "  'album: \"No Shame\" (2018)'),\n",
       " ('What You Waiting For?',\n",
       "  '../lyrics/lilyallen/whatyouwaitingfor.html',\n",
       "  'album: \"No Shame\" (2018)'),\n",
       " ('Your Choice',\n",
       "  '../lyrics/lilyallen/yourchoice.html',\n",
       "  'album: \"No Shame\" (2018)'),\n",
       " ('Lost My Mind',\n",
       "  '../lyrics/lilyallen/lostmymind.html',\n",
       "  'album: \"No Shame\" (2018)'),\n",
       " ('Higher', '../lyrics/lilyallen/higher.html', 'album: \"No Shame\" (2018)'),\n",
       " ('Family Man',\n",
       "  '../lyrics/lilyallen/familyman.html',\n",
       "  'album: \"No Shame\" (2018)'),\n",
       " ('Apples', '../lyrics/lilyallen/apples.html', 'album: \"No Shame\" (2018)'),\n",
       " ('Three', '../lyrics/lilyallen/three.html', 'album: \"No Shame\" (2018)'),\n",
       " ('Everything To Feel Something',\n",
       "  '../lyrics/lilyallen/everythingtofeelsomething.html',\n",
       "  'album: \"No Shame\" (2018)'),\n",
       " ('Waste', '../lyrics/lilyallen/waste.html', 'album: \"No Shame\" (2018)'),\n",
       " ('My One', '../lyrics/lilyallen/myone.html', 'album: \"No Shame\" (2018)'),\n",
       " ('Pushing Up Daisies',\n",
       "  '../lyrics/lilyallen/pushingupdaisies.html',\n",
       "  'album: \"No Shame\" (2018)'),\n",
       " ('Cake', '../lyrics/lilyallen/cake.html', 'album: \"No Shame\" (2018)'),\n",
       " ('Age Of Beige', '../lyrics/lilyallen/ageofbeige.html', 'other songs:'),\n",
       " (\"Don't Get Me Wrong\",\n",
       "  '../lyrics/lilyallen/dontgetmewrong.html',\n",
       "  'other songs:'),\n",
       " ('Falling Over Myself',\n",
       "  '../lyrics/lilyallen/fallingovermyself.html',\n",
       "  'other songs:'),\n",
       " ('Going To A Town', '../lyrics/lilyallen/goingtoatown.html', 'other songs:'),\n",
       " ('Happy', '../lyrics/lilyallen/happy.html', 'other songs:'),\n",
       " (\"I Don't Mind Babe\",\n",
       "  '../lyrics/lilyallen/idontmindbabe.html',\n",
       "  'other songs:'),\n",
       " (\"I Was Born In The 80's\",\n",
       "  '../lyrics/lilyallen/iwasborninthe80s.html',\n",
       "  'other songs:'),\n",
       " (\"I'll Be Just Fine\",\n",
       "  '../lyrics/lilyallen/illbejustfine.html',\n",
       "  'other songs:'),\n",
       " ('If I Could Save Her From Sadness',\n",
       "  '../lyrics/lilyallen/ificouldsaveherfromsadness.html',\n",
       "  'other songs:'),\n",
       " ('Mad World', '../lyrics/lilyallen/madworld.html', 'other songs:'),\n",
       " ('Miss A Thing', '../lyrics/lilyallen/missathing.html', 'other songs:'),\n",
       " ('My Town', '../lyrics/lilyallen/mytown.html', 'other songs:'),\n",
       " ('Shelter You', '../lyrics/lilyallen/shelteryou.html', 'other songs:'),\n",
       " ('Stop Right There',\n",
       "  '../lyrics/lilyallen/stoprightthere.html',\n",
       "  'other songs:'),\n",
       " ('Wanker!', '../lyrics/lilyallen/wanker.html', 'other songs:'),\n",
       " ('Why', '../lyrics/lilyallen/why.html', 'other songs:'),\n",
       " ('Womanizer', '../lyrics/lilyallen/womanizer.html', 'other songs:'),\n",
       " ('Yummy!', '../lyrics/lilyallen/yummy.html', 'other songs:')]"
      ]
     },
     "execution_count": 12,
     "metadata": {},
     "output_type": "execute_result"
    }
   ],
   "source": [
    "grab_song_links('https://www.azlyrics.com/l/lilyallen.html')"
   ]
  },
  {
   "cell_type": "markdown",
   "metadata": {},
   "source": [
    "## Text Scraping\n",
    "Write a secondary function that scrapes the lyrics for each song page."
   ]
  },
  {
   "cell_type": "code",
   "execution_count": 13,
   "metadata": {},
   "outputs": [
    {
     "data": {
      "text/plain": [
       "'<!DOCTYPE html>\\n<html lang=\"en\">\\n <head>\\n  <meta charset=\"utf-8\"/>\\n  <meta content=\"IE=edge\" http-equiv=\"X-UA-Compatible\"/>\\n  <meta content=\"width=device-width, initial-scale=1\" name=\"viewport\"/>\\n  <meta content=\"Lyrics to &quot;Sheezus&quot; song by Lily Allen: Been here before, so I\\'m prepared Not gonna lie though, I\\'m kinda scared Lace up my gloves, I\\'m goin...\" name=\"description\"/>\\n  <meta content=\"Sheezus lyrics, Lily Allen Sheezus lyrics, Lily Allen lyrics\" name=\"keywords\"/>\\n  <meta content=\"noarchive\" name=\"robots\"/>\\n  <meta content=\"//www.azlyrics.com/az_logo_tr.png\" property=\"og:image\"/>\\n  <title>\\n   Lily Allen - Sheezus Lyrics | AZLyrics.com\\n  </title>\\n  <link href=\"https://maxcdn.bootstrapcdn.com/bootstrap/3.3.4/css/bootstrap.min.css\" rel=\"stylesheet\"/>\\n  <link href=\"//www.azlyrics.com/bsaz.css\" rel=\"stylesheet\"/>\\n  <!-- HTML5 shim and Respond.js for IE8 support of HTML5 elements and media queries -->\\n  <!--[if lt IE 9]>\\r\\n<script src=\"https://oss.maxcdn.com/html5shiv/3.7.2/h'"
      ]
     },
     "execution_count": 13,
     "metadata": {},
     "output_type": "execute_result"
    }
   ],
   "source": [
    "#Remember to open up the webpage in a browser and control-click/right-click and go to inspect!\n",
    "from bs4 import BeautifulSoup\n",
    "import requests\n",
    "\n",
    "#Example page\n",
    "url = 'https://www.azlyrics.com/lyrics/lilyallen/sheezus.html'\n",
    "\n",
    "\n",
    "html_page = requests.get(url)\n",
    "soup = BeautifulSoup(html_page.content, 'html.parser')\n",
    "soup.prettify()[:1000]"
   ]
  },
  {
   "cell_type": "code",
   "execution_count": 15,
   "metadata": {},
   "outputs": [],
   "source": [
    "def scrape_lyrics(song_page_url):\n",
    "    html_page = requests.get(song_page_url)\n",
    "    soup = BeautifulSoup(html_page.content, 'html.parser')\n",
    "    main_page = soup.find('div', {\"class\": \"container main-page\"})\n",
    "    main_l2 = main_page.find('div', {\"class\" : \"row\"})\n",
    "    main_l3 = main_l2.find('div', {\"class\" : \"col-xs-12 col-lg-8 text-center\"})\n",
    "    lyrics = main_l3.findAll('div')[6].text\n",
    "    return lyrics"
   ]
  },
  {
   "cell_type": "code",
   "execution_count": 16,
   "metadata": {},
   "outputs": [
    {
     "data": {
      "text/plain": [
       "\"\\n\\r\\nLook inside\\nLook inside your tiny mind\\nNow look a bit harder\\n'Cause we're so uninspired, so sick and tired of all the hatred you harbor\\n\\nSo you say\\nIt's not okay to be gay\\nWell I think you're just evil\\nYou're just some racist who can't tie my laces\\nYour point of view is medieval\\n\\nFuck you\\nFuck you very, very much\\n'Cause we hate what you do\\nAnd we hate your whole crew\\nSo please don't stay in touch\\n\\nFuck you\\nFuck you very, very much\\n'Cause your words don't translate\\nAnd it's getting quite late\\nSo please don't stay in touch\\n\\nDo you get\\nDo you get a little kick out of being slow-minded?\\nYou want to be like your father\\nIt's approval you're after\\nWell that's not how you find it\\n\\nDo you\\nDo you really enjoy living a life that's so hateful?\\n'Cause there's a hole where your soul should be\\nYou're losing control of it and it's really distasteful\\n\\nFuck you\\nFuck you very, very much\\n'Cause we hate what you do\\nAnd we hate your whole crew\\nSo please don't stay in touch\\n\\nFuck you\\nFuck you very, very much\\n'Cause your words don't translate and it's getting quite late\\nSo please don't stay in touch\\n\\nFuck you, fuck you, fuck you,\\nFuck you, fuck you, fuck you,\\nFuck you\\n\\nYou say, you think we need to go to war\\nWell you're already in one,\\n'Cause its people like you\\nThat need to get slew\\nNo one wants your opinion\\n\\nFuck you\\nFuck you very, very much\\n'Cause we hate what you do\\nAnd we hate your whole crew\\nSo please don't stay in touch\\n\\nFuck you\\nFuck you very, very much\\n'Cause your words don't translate and it's getting quite late\\nSo please don't stay in touch\\n\\nFuck you, fuck you, fuck you\\nFuck you, fuck you, fuck you\\n\""
      ]
     },
     "execution_count": 16,
     "metadata": {},
     "output_type": "execute_result"
    }
   ],
   "source": [
    "scrape_lyrics('https://www.azlyrics.com/lyrics/lilyallen/fuckyouverymuch.html')"
   ]
  },
  {
   "cell_type": "markdown",
   "metadata": {},
   "source": [
    "## Synthesizing\n",
    "Create a script using your two functions above to scrape all of the song lyrics for a given artist.\n"
   ]
  },
  {
   "cell_type": "code",
   "execution_count": 17,
   "metadata": {},
   "outputs": [
    {
     "name": "stdout",
     "output_type": "stream",
     "text": [
      "86\n",
      "('Smile', '../lyrics/lilyallen/smile.html', 'album: \"Alright, Still\" (2006)')\n"
     ]
    }
   ],
   "source": [
    "#Use this block for your code!\n",
    "\n",
    "#Preview First Step\n",
    "songs = grab_song_links(\"https://www.azlyrics.com/l/lilyallen.html\")\n",
    "print(len(songs))\n",
    "print(songs[0])\n"
   ]
  },
  {
   "cell_type": "code",
   "execution_count": 18,
   "metadata": {},
   "outputs": [],
   "source": [
    "songs = grab_song_links(\"https://www.azlyrics.com/l/lilyallen.html\")\n",
    "url_base = \"https://www.azlyrics.com\"\n",
    "lyrics = []\n",
    "for song in songs:\n",
    "    try:\n",
    "        url_sffx = song[1].replace('..','')\n",
    "        url = url_base + url_sffx\n",
    "        lyr = scrape_lyrics(url)\n",
    "        lyrics.append(lyr)\n",
    "    except:\n",
    "        lyrics.append(\"N/A\")"
   ]
  },
  {
   "cell_type": "code",
   "execution_count": 20,
   "metadata": {},
   "outputs": [
    {
     "data": {
      "text/plain": [
       "[\"\\n\\r\\nWhen you first left me I was wanting more\\nBut you were fucking that girl next door, what you do that for (what you do that for)?\\nWhen you first left me I didn't know what to say\\nI never been on my own that way, just sat by myself all day\\n\\nI was so lost back then\\nBut with a little help from my friends\\nI found a light in the tunnel at the end\\nNow you're calling me up on the phone\\nSo you can have a little whine and a moan\\nAnd it's only because you're feeling alone\\n\\nAt first when I see you cry,\\nYeah, it makes me smile, yeah, it makes me smile\\nAt worst I feel bad for a while,\\nBut then I just smile, I go ahead and smile\\n\\nWhenever you see me you say that you want me back\\nAnd I tell you it don't mean jack, no, it don't mean jack\\nI couldn't stop laughing, no, I just couldn't help myself\\nSee you messed up my mental health I was quite unwell\\n\\nI was so lost back then\\nBut with a little help from my friends\\nI found a light in the tunnel at the end\\nNow you're calling me up on the phone\\nSo you can have a little whine and a moan\\nAnd it's only because you're feeling alone\\n\\nAt first when I see you cry,\\nYeah, it makes me smile, yeah, it makes me smile\\nAt worst I feel bad for a while,\\nBut then I just smile, I go ahead and smile\\n\\nLalalalalalalalalalalalalalalala lalala\\n\\nAt first when I see you cry,\\nYeah, it makes me smile, yeah, it makes me smile\\nAt worst I feel bad for a while,\\nBut then I just smile, I go ahead and smile\\n\\nLalalalalalalalalalalalalalalalalalalala\\n\\nAt first when I see you cry,\\nYeah, it makes me smile, yeah, it makes me smile\\nAt worst I feel bad for a while,\\nBut then I just smile, I go ahead and smile\\n\",\n",
       " '\\n\\r\\nAlright so this is a song about anyone, it could be anyone.\\nYou\\'re just doing your own thing and some one comes out the blue,\\nThey\\'re like,\\n\"Alright\"\\nWhat ya saying,\\n\"Yeah can I take your digits?\"\\nAnd you\\'re like, \"no not in a million years, you\\'re nasty\\nplease leave me alone.\"\\n\\nCut to the pub on our last night out,\\nMan at the bar cos it was his shout,\\nClocks this bird and she looks OK,\\nCaught him looking and she walks his way,\\n\"Alright darling, you gonna buy us a drink then?\"\\n\"Err no, but I was thinking of buying one for your friend...\"\\n\\nShe\\'s got no taste hand on his waist, tries to pull away but her lips on his face,\\n\"If you insist I\\'ll have a white wine spritzer\"\\n\"Sorry love, but you ain\\'t a pretty picture.\"\\n\\n[Chorus]\\nCan\\'t knock em out, can\\'t walk away,\\nTry desperately to think of the politest way to say,\\nJust get out my face, just leave me alone,\\nAnd no you can\\'t have my number,\\n\"Why?\"\\nBecause I\\'ve lost my phone.\\n\\nOh yeah, actually yeah I\\'m pregnant, having a baby in like 6 months so no, yeah, yeah...\\n\\n\"I recognize this guy\\'s way of thinking...\"\\nAs he comes over her face starts sinking,\\nShe\\'s like,\\n\"Oh here we go..\"\\nIt\\'s a routine check that she already knows, she\\'s thinking: \"They\\'re all the same.\"\\n\\n\"Yeah you alright baby? You look alright still, yeah what\\'s your name?\"\\nShe looks in her bag, takes out a fag, tries to get away from the guy on a blag, can\\'t find a light,\\n\"Here use mine\"\\n\"You see the thing is I just don\\'t have the time.\"\\n\\n[Chorus]\\n\\nGo away now, let me go,\\nAre you stupid? Or just a little slow?\\nGo away now I\\'ve made myself clear,\\nNah it\\'s not gonna happen,\\nNot in a a million years,\\n\\n[Chorus x2]\\n\\nNah I\\'ve gotta go cos my house is on fire,\\nI\\'ve got herpes, err no I\\'ve got syphilis...\\nAIDS, AIDS, I\\'ve got AIDS!\\n',\n",
       " \"\\n\\r\\nRiding through the city on my bike all day\\r\\nCause the filth took away my license\\r\\nIt doesn't get me down and I feel OK\\r\\nCause the sights that I'm seeing are priceless\\n\\r\\nEverything seems to look as it should\\r\\nBut I wonder what goes on behind doors\\r\\nA fella looking dapper, but he's sitting with a slapper\\r\\nThen I see it's a pimp and his crack whore\\n\\r\\nYou might laugh you might frown\\r\\nWalkin' round London town\\n\\n[Chorus]\\r\\nSun is in the sky oh why oh why ?\\r\\nWould I wanna be anywhere else\\r\\nSun is in the sky oh why oh why ?\\r\\nWould I wanna be anywhere else\\n\\r\\nWhen you look with your eyes\\r\\nEverything seems nice\\r\\nBut if you look twice\\r\\nyou can see it's all lies\\n\\r\\nThere was a little old lady, who was walking down the road\\r\\nShe was struggling with bags from Tesco\\r\\nThere were people from the city having lunch in the park\\r\\nI believe that it's called al fresco\\r\\nThen a kid came along to offer a hand\\n\\r\\nBut before she had time to accept it\\r\\nhits her over the head, doesn't care if she's dead\\r\\nCause he's got all her jewelery and wallet\\n\\r\\nYou might laugh you might frown\\r\\nwalking round London town\\n\\n[Chorus]\\r\\nSun is in the sky oh why oh why?\\r\\nWould I wanna be anywhere else\\r\\nSun is in the sky oh why oh why?\\r\\nWould I wanna be anywhere else\\n\\r\\nWhen you look with your eyes\\r\\nEverything seems nice\\r\\nBut if you look twice\\r\\nyou can see it's all lies\\n\\r\\nLife, yeah that's city life, yeah that's city life, yeah that's city life\\r\\nLife, yeah that's city life, yeah that's city life, yeah that's city life\\n\\n[Chorus x2]\\r\\nSun is in the sky oh why oh why?\\r\\nWould I wanna be anywhere else\\r\\nSun is in the sky oh why oh why?\\r\\nWould I wanna be anywhere else\\n\\n[x2]\\r\\nWhen you look with your eyes\\r\\nEverything seems nice\\r\\nBut if you look twice\\r\\nYou can see it's all lies\\n\",\n",
       " \"\\n\\r\\nDo you think, everything, everyone, is going mental,\\r\\nIt seems to me that it's spiraling outta control and it's inevitable,\\r\\nNow don't you think,\\r\\nThis time is yours, this time is mine,\\r\\nIt's temperamental,\\r\\nIt seems to me, we're on all fours,\\r\\nCrawling on our knees,\\r\\nSomeone help us please\\n\\r\\nOh Jesus Christ almighty,\\r\\nDo I feel alright? No not slightly,\\r\\nI wanna get a flat I know I can't afford it,\\r\\nIt's just the bureaucrats who won't give me a mortgage,\\r\\nWell it's very funny cos I got your fucking money,\\r\\nAnd I'm never gonna get it just because of my bad credit\\r\\nOh well I guess I mustn't grumble,\\r\\nI suppose that's just the way the cookie crumbles.\\n\\n[Chorus]\\r\\nOh yes, I'm fine,\\r\\nEverything's just wonderful,\\r\\nI'm having the time of my life.\\n\\r\\nDon't you want something else,\\r\\nSomething new, than what we've got here,\\r\\nAnd don't you feel it's all the same,\\r\\nSome sick game and it's not insincere,\\r\\nI wish I could change the ways of the world,\\r\\nMake it a nice place\\r\\nUntil that day, I guess we stay,\\r\\nDoing what we do\\r\\nScrewing who we screw\\n\\r\\nWhy can't I sleep at night,\\r\\nDon't say it's gonna be alright,\\r\\nI wanna be able to eat spaghetti bolognaise,\\r\\nand not feel bad about it for days and days and days.\\r\\nIn the magazines they talk about weight loss,\\r\\nIf I buy those jeans I can look like Kate Moss,\\r\\nOh no it's not the life I chose,\\r\\nBut I guess that's the way that things go,\\n\\n[Chorus x2]\\n\\r\\nBa ba ba ba ba ba ba ba ba [etc.]\\n\\r\\nOh Jesus Christ almighty,\\r\\nDo I feel alright? No not slightly,\\r\\nI wanna get a flat I know I can't afford it,\\r\\nIt's just the bureaucrats who won't give me a mortgage,\\r\\nWell it's very funny cos I got your fucking money,\\r\\nAnd I'm never gonna get it just because of my bad credit\\r\\nOh well I guess I mustn't grumble,\\r\\nI suppose that's just the way the cookie crumbles.\\n\\n[Chorus x2]\\n\",\n",
       " \"\\n\\r\\nNow listen I think you and me have come to the end of our time,\\r\\nWhat do you want some kind of reaction?\\r\\nWell, OK, that's fine,\\r\\nAlright, how would it make you feel if I said you never made me cum?\\r\\nIn the year and a half that we spent together,\\r\\nYeah, I never really had much fun.\\n\\r\\nAll those times that I said I was sober,\\r\\nWell I'm afraid I lied,\\r\\nI'd be lying next to you, you next to me,\\r\\nAll the while I was high as a kite.\\r\\nI could see it in your face as you break it to me gentle,\\r\\nYeah, you really must think you're great,\\r\\nLet's see how you feel in a couple of weeks,\\r\\nWhen I work my way through your mates.\\n\\n[Chorus:]\\r\\nI never wanted it to end up this way,\\r\\nYou've only got yourself to blame,\\r\\nI'm gonna tell the world you're rubbish in bed now\\r\\nAnd that you're small in the game.\\n\\r\\nI saw you thought this was gonna be easy,\\r\\nWell, you're out of luck.\\r\\nYeah, let's rewind, let's turn back time to when you couldn't get it up,\\r\\nYou know what it should've ended there,\\r\\nThat's when I should've shown you the door.\\r\\nAs if that weren't enough to deal with,\\r\\nYou became premature.\\n\\r\\nI'm sorry if you feel that I'm being kinda mental,\\r\\nBut you left me in such a state.\\r\\nBut now I'm gonna do what you did to me,\\r\\nGonna reciprocate.\\n\\n[Chorus:]\\r\\nYou're not big, you're not clever,\\r\\nNo, you ain't a big brother\\r\\nNot big what so ever.\\n\\r\\nAh [etc.]\\n\\r\\nI'm sorry if you feel that I'm being kinda mental,\\r\\nBut you left me in such a state.\\r\\nBut now I'm gonna do what you did to me,\\r\\nI'm gonna reciprocate.\\n\\r\\nYou're not big, you're not clever,\\r\\nNo, you ain't a big brother\\r\\nNot big what so ever\\n\\r\\nYou're not big, you're not clever,\\r\\nNot big what so ever\\r\\nNo, you ain't a big brother [x2]\\n\",\n",
       " \"\\n\\r\\nFriday night last orders at the pub\\nGet in the car and drive to the club\\nThere's a massive crowd outside\\nSo we get in to the queue\\nIt's quarter past 11\\nNow we won't get in 'til quarter two\\n\\nIt's quarter two and we get to the front\\nGirl on a guest list dressed like a cunt\\nShe asked security to check inside my shoes\\nYou can play this game with me\\nBut you know you're gonna lose\\n\\nLook me up and down\\nI don't make a sound\\nThere's a lesson that I want you to learn\\nIt's if you're gonna play with fire then you're gonna get burned\\n\\nDon't try and test me 'cause you'll get a reaction\\nAnother drink and I'm ready for action\\nI don't know who you think you are\\nBut making people scared won't get you very far\\n\\nIn the club make our way to the bar\\nGood dancing love but you should have worn a bra\\nGuy on the mic and he's making too much noise\\nThere's these girls in the corner want attention from the boys\\n\\nI see these girls and they're shouting through the crowd\\nDon't understand why they're being really loud\\nMake their way over to me\\nAnd try and push me out the way\\nI'll push her back, she looks at me and says\\nWhat you tryna say?\\n\\nLook me up and down\\nI don't make a sound\\nThere's a lesson that I want you to learn\\nIt's if you're gonna play with fire then you're gonna get burned\\n\\nDon't try and test me 'cause you'll get a reaction\\nAnother drink and I'm ready for action\\nI don't know who you think you are\\nBut making people scared won't get you very far\\n\\nDon't try and test me 'cause you'll get a reaction\\nAnother drink and I'm ready for action\\nI don't know who you think you are\\nBut making people scared won't get you very far\\n\",\n",
       " \"\\n\\r\\nI've been thinking that you've crossed the line,\\r\\nif you disappeared that would be just fine,\\r\\n'cause you waste my time and waste my money\\r\\nand you're not too cool and not too funny!\\r\\nSpreading your seed all over the town\\r\\ngetting too greedy and messing around:\\r\\nOh my gosh you must be joking me\\r\\nif you think that you'll be poking me.\\n\\r\\nDon't take me on no, no\\r\\nDon't take me on no, no\\r\\nDon't take me on\\r\\nShattered the lie but you think I don't already know,\\r\\nDon't try to deny 'cause my fuse is ready to blow\\r\\nIts your turn to learn I think that you know where to go\\r\\nIt's a shame, shame, shame for you\\n\\r\\nPlease don't come around and knock on my door\\r\\n'cause I don't want to have to pick you up of the floor,\\r\\nwhen you ask if we can still be lovers,\\r\\nI'll have to introduce my brothers,\\r\\nThink that they could teach you a lesson or two,\\r\\nBy the time they've finished you'll be black and blue\\r\\nYou'll be crying like a baby,\\r\\nA sea of tears they'll call the navy in.\\n\\r\\nDon't take me on no, no\\r\\nDon't take me on no, no\\r\\nDon't take me on\\r\\nShattered the lie but you think I don't already know,\\r\\nDon't try to deny 'cause my fuse is ready to blow\\r\\nIt's your turn to learn I think that you know where to go\\r\\nIt's a shame shame shame for you\\n\\r\\nDon't take me on no, no\\r\\nDon't take me on no, no\\r\\nDon't take me on\\r\\nShattered the lie but you think I don't already know,\\r\\nDon't try to deny 'cause my fuse is ready to blow\\r\\nIt's your turn to learn but I think that you know where to go\\r\\nIt's a shame shame shame for you\\n\",\n",
       " \"\\n\\r\\nSometimes I find myself sittin' back and reminiscing\\nEspecially when I have to watch other people kissin'\\nAnd I remember when you started callin' me your missus\\nAll the play fightin', all the flirtatious disses\\nI'd tell you sad stories about my childhood\\nI don't know why I trusted you but I knew that I could\\nWe'd spend the whole weekend lying in our own dirt\\nI was just so happy in your boxers and your t-shirt\\n\\n[Chorus]\\nDreams, dreams\\nOf when we had just started things\\nDreams of you and me\\nAnd it seems, it seems\\nThat I can't shake those memories\\nI wonder if you have the same dreams too.\\n\\nThe littlest things that take me there\\nI know it sounds lame but it's so true\\nI know it's not right, but it seems unfair\\nThe things are reminding me of you\\nSometimes I wish we could just pretend\\nEven if only for one weekend\\nSo come on, Tell me\\nIs this the end?\\n\\nDrinkin' tea in bed\\nWatching DVD's\\nWhen I discovered all your dirty grotty magazines\\nYou take me out shopping and all we'd buy is trainers\\nAs if we ever needed anything to entertain us\\nThe first time that you introduced me to your friends\\nAnd you could tell that I was nervous, so you held my hand\\nWhen I was feeling down, you made that face you do\\nThere's no one in the world who could replace you\\n\\n[Chorus]\\nDreams, dreams\\nOf when we had just started things\\nDreams of me and you\\nAnd it seems, it seems\\nThat I can't shake those memories\\nI wonder if you feel the same way too\\n\\nThe littlest things that take me there\\nI know it sounds lame but it's so true\\nI know it's not right, but it seems unfair\\nThe things are reminding me of you\\nSometimes I wish we could just pretend\\nEven if only for one weekend\\nSo come on, Tell me\\nIs this the end?\\n\",\n",
       " \"\\n\\r\\nA picture paints a thousand words,\\r\\nAs one door closes, another door opens,\\r\\nAnd two wrongs don't make a right\\r\\nNow good things come to those who wait,\\r\\nTake the highs with the lows dear,\\r\\nYou'll get what your given and everything's gonna be alright.\\n\\r\\nWhat the fuck do you know?\\r\\nJust cos you're old you think your wise,\\r\\nBut who the hell are you though,\\r\\nI didn't even ask for your advice\\r\\nYou wanna keep your mouth shut,\\r\\nYou wanna take your thoughts elsewhere,\\r\\nCos you're doing in my nut,\\r\\nAnd do you think I care?\\n\\n[Chorus:]\\r\\nSay what you say,\\r\\nDo what you do\\r\\nFeel what you feel,\\r\\nAs long as it's real.\\r\\nI said take what you take\\r\\nAnd give what you give\\r\\nJust be what you want,\\r\\nJust as long as it's real.\\n\\r\\nNow by a horse, I once was told\\r\\nThat all that glitters is not gold\\r\\nAnd all that is to fear is fear itself.\\r\\nThis horsey also told me,\\r\\nI should keep my friends close but keep my enemies closer,\\r\\nSo as to protect myself.\\n\\r\\nWhat the fuck do you know?\\r\\nJust cos you're old you think your wise,\\r\\nBut who the hell are you though,\\r\\nI didn't even ask for your advice\\r\\nYou wanna keep your mouth shut,\\r\\nYou wanna take your thoughts elsewhere,\\r\\nCos you're doing in my nut,\\r\\nAnd do u think care?\\n\\n[Chorus]\\n\\r\\nAhhhhhhhhhhhhhhhh\\r\\nAhhhhhhhhhhhhhhhh\\r\\nAhhhhhhhhhhhhhhhh\\r\\nAhhhhhhhhhhhhhhhh\\r\\nAhhhhhhhhhhhhhhhh\\n\\n[Chorus x4]\\n\",\n",
       " \"\\n\\r\\nI don't want us to have a fight,\\r\\nBut in the background I can hear you chatting shit,\\r\\nI hear it every night.\\r\\nAnd you think you're being really cool,\\r\\nYou've been doing it since we were both at school,\\r\\nNow who looks like a fool.\\n\\n[Chorus]\\r\\nYou're no friend of mine girl\\r\\nAnd I've known it for a while girl,\\r\\nYou're just a waste of time girl\\r\\nWhy don't you have another line girl.\\n\\r\\nHook\\r\\nTell me what did you expect?\\r\\nHave you got no self respect?\\r\\nReputation to protect?\\r\\nSoon you'll be a nervous wreck.\\n[x2]\\n\\r\\nWhat happened to the good old days?\\r\\nI was kinda hoping this was all a stupid phase\\r\\nWho are you anyway?\\r\\nI know you've heard this all before\\r\\nI know some people who are calling you a whore\\r\\nDon't know you anymore\\n\\n[Chorus]\\r\\nYou're no friend of mine girl\\r\\nAnd I've known it for a while girl,\\r\\nYou're just a waste of time girl\\r\\nWhy don't you have another line girl.\\n\\r\\nHook\\r\\nTell me what did you expect?\\r\\nHave you got no self respect?\\r\\nReputation to protect?\\r\\nSoon you'll be a nervous wreck.\\n[x4]\\n\",\n",
       " \"\\n\\r\\nOh, oh, deary me,\\nMy little brother's in his bedroom smoking weed,\\nI tell him he should get up 'cause it's nearly half past three\\nHe can't be bothered 'cause he's high on THC.\\n\\nI ask him very nicely if he'd like a cup of tea,\\nI can't even see him 'cause his room is so smoky,\\nDon't understand how one can watch so much TV,\\nMy baby brother Alfie, how I wish that you could see.\\n\\nI only say it 'cause I care,\\nSo please can you stop pulling my hair.\\nNow, now there's no need to swear,\\nPlease don't despair, my dear mon frère.\\n\\nOh, Alfie, get up. It's a brand new day,\\nI just can't sit back and watch you waste your life away\\nYou need to get a job because the bills need to get paid.\\nGet off your lazy axs,\\nAlfie please use your brain\\n\\nSurely there's some walls out there that you can go and spray,\\nI'm feeling guilty for leading you astray,\\nNow how the hell do you ever expect that you'll get laid,\\nWhen all you do is stay and play on your computer games?\\n\\nI only say it 'cause I care,\\nSo please can you stop pulling my hair.\\nNow, now there's no need to swear,\\nPlease don't despair, my dear mon frère.\\n\\nOh, little brother, please refrain from doing that,\\nI'm trying to help you out so can you stop being a twat.\\nIt's time that you and I sat down and had a little chat,\\nAnd look me in the eyes. Take off that stupid fitted cap.\\n\\nI only say it 'cause I care,\\nSo please can you stop pulling my hair.\\nNow, now there's no need to swear,\\nPlease don't despair\\nPlease don't despair, my mon frère\\n\",\n",
       " \"\\n\\r\\nThe bottom feels so much better than the top!\\nSo much better.\\n\\n[Chorus:]\\nNan you're a window shopper,\\ntaking a look but you never buy.\\nNan you're a window shopper,\\nYou won't pick it up if its over a fiver.\\nNan you're a window shopper,\\nget on the bus coz you still can't drive.\\nNan you're a window shopper,\\nmad as fuck only just alive.\\n\\nGet up in the morning and you like your tea milky,\\nyou fumble for your glasses coz without 'em you cant see,\\nIt's funny how I come round your house and I'm 20\\nand I still have to wear all the presents you sent me.\\nI walk into your kitchen everything's got a label,\\nyou done your Christmas shopping and we're only in April.\\nAnd you wont leave the house unless your wearing your thermals,\\nyou're covered all in cat hair and you're stinking like Strepsils,\\nYour heading down the Bowls Club,\\nhave another orange squash.\\nBalls are rollin rollin rollin.\\nYou can't walk right coz things aren't what they were,\\nyour ankles are swollen swollen swollen.\\n\\n[Chorus]\\n\\nYou're walking down the post office to pick up your pension,\\nand then you're off to Bingo, it's become an obssession.\\nSo weary of the kids when their wearin' their hoods up,\\nand even if they smile at you, you think its a stick-up.\\nYou only buy the paper just to cut out the coupons,\\nyour saving 50p but what do you want with tampons?\\nYour always at the doctor picking up your prescription,\\nand they throw in some K-Y just to ease up the friction.\\nYou gotta leak in your colostomy bag,\\nyeah its got a hole in hole in hole in.\\nAt the weekend your shopping with your trolley,\\nits so sad how your rollin rollin rollin.\\n\\n[Chorus]\\n\",\n",
       " \"\\n\\r\\nSnow is falling all around\\nSeven o'clock and the roads are blocked\\nSo i walk downtown\\nThere's no one else around\\n\\nI look in the bar and immediately\\nI sense daydream\\nLook at me girl as if i was some kind of\\nA total stranger\\n\\nWhere did you get that\\nBlank expression on your face\\nWhere did you get that\\nBlank expression on your face\\n\\nThe streets are dark\\nAnd there's no one about\\nI wander home\\nAnd all the lights are out\\nI keep wondering\\n\\nWhere did you get that\\nBlank expression on your face\\nWhere did you get that\\nBlank expression on your face\\n\\nWhere did you get that\\nBlank expression on your face\\nWhere did you get that\\nBlank expression on your face\\n\",\n",
       " \"\\n\\r\\nI wish I had one good reason why\\nI should stay\\nHow'd I get myself\\nInto this place?\\n\\nI wish had qualities like\\nSympathy\\nFidelity\\nSobriety\\nSincerity\\nHumility\\nInstead I got lunacy\\n\\nYeah yeah yeah yeah\\nYeah yeah yeah\\n\\nI wish I could fit myself in my pocket\\nAnd tie myself to a rocket\\nAnd send myself to outer space\\nI wish I had a different face\\n\\nI wish I had one good reason why\\nI should stay\\nHow'd I get myself\\nInto this place?\\n\\n[Chorus:]\\nI wish my life was a little less seedy\\nWhy am I always so greedy?\\nWish I looked just like Cheryl Tweedy\\nI know I never will\\nI know I never will\\nI wish my life was not so boring\\nEvery weekend fall to the flooring\\nDon't get me started on Monday morning\\nIt would be overkill\\nIt would be overkill\\n\\nI wish I had one good reason why\\nI should stay\\nHow'd I get myself\\n(How'd I get myself)\\nInto this place?\\n\\nI wish I could apologize\\nBe dignified\\nWish I could look you in the eye\\nAnd tell you that I never lied\\nI wish that I could stop the cries\\nYeah yeah yeah yeah\\nYeah yeah yeah\\n\\nDon't wake me up today\\nUnder my duvet's\\nWhere I wanna stay\\nDon't wanna come out to play\\nDoesn't matter what you say, anyway, anyway\\n\\n[Chorus]\\n\\nOh, I wish I didn't smoke so many cigarettes\\nAnother programme on antiques on the TV set\\nWish I had blonde hair\\nWish I had green eyes\\nSo many things about myself that I despise\\n(I wish my life was a little less seedy)\\nSo many things about my life that I despise\\n(I wish my life was a little less seedy)\\nSo many things that I despise\\n(I wish my life was a little less seedy)\\nSo many things that I despise\\n\",\n",
       " \"\\n\\r\\nI'm on the doorstep with my key turned in the door,\\nWalk the livin room and you're side on my floor\\n\\nMy heart is achin and i've never felt this bad\\nI pinch myself to check that all of this is real\\nKeep thinkin i'm not lettin on I feel this sad\\nThen you've got the cheek to ask me how I feel\\n\\nAnd I say\\n\\nAbsolutley nothing, i'm absolutley fine\\nAbsolutely nothing you can say to change my mind\\nAbsolutely nothing, i'm absolutely fine\\nAbsolutely nothing you can say to change my mind\\n\\nI know that you just want to see me get upset\\nMy world turned upside down so what did you expect?\\n\\nMy heart is achin and i've never felt this bad\\nI pinch myself to check that all of this is real\\nKeep thinkin i'm not lettin on I feel this sad\\nThen you've got the cheek to ask me how I feel\\n\\nAnd I say\\n\\nAbsolutley nothing, i'm absolutley fine\\nAbsolutely nothing you can say to change my mind\\nAbsolutely nothing, i'm absolutely fine\\nAbsolutely nothing you can say to change my mind\\n\\nYou've seen me cry, too many times\\nBut not this time, no, not this time\\nI don't need you, to help me through\\nI'll be just fine, i'll be just fine\\n\\nAnd I say\\n\\nAbsolutley nothing, i'm absolutley fine\\nAbsolutely nothing you can say to change my mind\\nAbsolutely nothing, i'm absolutely fine\\nAbsolutely nothing you can say to change my mind [x3]\\n\",\n",
       " \"\\n\\r\\nSun is shining in the sky\\nThere ain't a cloud in sight\\nIt's stopped rainin', everybody's in a play\\nAnd don't you know\\nIt's a beautiful new day, hey\\nRunnin' down the avenue\\nSee how the sun shines brightly in the city\\nOn the streets where once was pity\\nMr. Blue Sky is living here today hey, hey, hey\\nMr. Blue Sky, please tell us why\\nYou had to hide away for so long\\nWhere did we go wrong?\\nMr. Blue Sky, please tell us why\\nYou had to hide away for so long\\nWhere did we go wrong?\\n\\nHey you with the pretty face\\nWelcome to the human race\\nA celebration, mister Blue Sky's up there waitin'\\nAnd today is the day we've waited for, ooh\\nMr. Blue Sky, please tell us why\\nYou had to hide away for so long\\nWhere did we go wrong?\\nHey there mr. Blue\\nWe're so pleased to be with you\\nLook around see what you do\\nEverybody smiles at you\\nHey there mr. Blue\\nWe're so pleased to be with you\\nLook around see what you do\\nEverybody smiles at you\\n\\nMr. Blue Sky, mr. Blue Sky\\nMr. Blue Sky\\n\\nMister Blue, you did it right\\nBut soon comes mister Night creepin' over\\nNow his hand is on your shoulder\\nNever mind I'll remember you this\\nI'll remember you this\\n\\nMister Blue Sky, please tell us why\\nYou had to hide away for so long\\nWhere did we go wrong?\\nMister Blue Sky, please tell us why\\nYou had to hide away for so long\\nWhere did we go wrong?\\nHey there, mister Blue\\nWe're so pleased to be with you\\nLook around see what you do\\nEverybody smiles at you\\n\",\n",
       " \"\\n\\r\\nSunday morning\\nWe were lying in bed, just the two of us under cover, undercover\\nWith no warning you suddenly became my lover\\nI've been waiting so very long for you to say it to me, say it to me\\nI've been skating, skating on thin ice if I don't agree\\n\\nI know you're the one for me but it took me by surprise\\nAnd If I say it back to you, I can't look you in the eye\\nI don't want to lose you, I don't want to confuse you\\nI guess that this is my cue, to give you my reply\\n\\nAnd you killed it, you killed it\\nYou killed it with I love you\\nAnd you killed it, you killed it\\nYou killed it with I love you\\nAnd you killed with I love you\\nWhat am I supposed to say back to you?\\nYou killed it with I love you\\n\\nAnd I'm sorry\\nonly three little words I seem to be so scared of\\nso please show me how to get these words\\noff the tip of my tongue and out of my mind\\n\\nI know you're the one for me but it took me by surprise\\nIf I say it back to you, I can't look you in the eye\\nI don't want to lose you, I don't want to confuse you\\nI guess that this is my cue, to give you my reply\\n\\nI know you're the one for me but it took me by surprise\\nAnd If I say it back to you, I can't look you in the eye\\nI don't want to lose you, I don't want to confuse you\\nI guess that this is my cue, to give you my reply\\n\\nAnd you killed it, you killed it\\nYou killed it with I love you\\nAnd you killed it, you killed it\\nYou killed it with I love you\\nAnd you killed with I love you\\nWhat am I supposed to say back to you?\\nYou killed it with I love you\\n\\nI have been thinking about what you said\\nThree little words running round in my head\\nThere's no one else that I'd rather be next to\\nI guess what I'm trying to say is I love you\\n\",\n",
       " \"\\n\\r\\nYou say you wander your own land\\nBut when I think about it I don't see how you can\\nYou're aching, you're breaking and I can see the pain in your eyes\\nSays everybody's changing and I don't know why\\n\\nSo little time\\nTry to understand that I'm\\nTrying to make a move just to stay in the game\\nI try to stay awake and remember my name\\nBut everybody's changing and I don't feel the same\\n\\nYou're gone from here\\nSoon you will disappear\\nFading into beautiful light\\n'Cause everybody's changing and I don't feel right\\n\\nSo little time\\nTry to understand that I'm\\nTrying to make a move just to stay in the game\\nI try to stay awake and remember my name\\nBut everybody's changing and I don't feel the same\\n\\nSo little time\\nTry to understand that I'm\\nTrying to make a move just to stay in the game\\nI try to stay awake and remember my name\\nBut everybody's changing and I don't feel the same\\n\\nOh, everybody's changing and I don't feel the same\\n\",\n",
       " \"\\n\\r\\nI'm not saying it was your fault\\nAlthough you could have done more\\n\\nOh you're so naive yet so\\n\\nHow could this be done\\nYour such a smiling sweetheart\\nOh and your sweet and pretty face\\nIn such an ugly way\\nSomething so beautiful\\nThat everytime I look inside\\n\\nI know that she knows that I'm not fond of asking\\nTrue or false it may be\\nShe's still out to get me\\n\\nI know that she knows that I'm not fond of asking\\nTrue or false it may be\\nShe's still out to get me\\n\\nI may say it was your fault\\nCause I know you could have done more\\n\\nOh you're so naive yet so\\n\\nHow could this be done\\nBy such a smiling sweetheart\\nOh and your sweet and pretty face\\nIn such an ugly way something so beautiful\\nEverytime I look inside\\n\\nI know that she knows that I'm not fond of asking\\nTrue or false it may be\\nShe's still out to get me\\n\\nI know that she knows that I'm not fond of asking\\nTrue or false it may be\\nShe's still out to get me\\n\\nHow could this be done\\nBy such a smiling sweetheart\\n\\nOh you're so naive yet so\\n\\nSuch an ugly thing\\nSomeone so beautiful\\nAnd everytime you're on his side\\n\\nI know she knows that I'm not fond of asking\\nTrue or false it maybe be she's still out to get me\\n\\nAnd I know she knows that I'm not fond of asking\\nTrue or false it maybe be she's still out to get me\\n\\nJust don't let me down\\nJust don't let me down\\nHold on to your kite\\nJust don't let me down\\nJust don't let me down\\nHold on to your kite\\nJust don't let me down\\nJust don't let me down\\nHold on to this kite\\nJust don't let me down\\n\",\n",
       " 'N/A',\n",
       " \"\\n\\r\\nI don't know much, \\r\\nBut I know this for certain, \\r\\nThat is the sun, \\r\\nPoking its head round the curtain. \\n\\r\\nNow please can we leave, \\r\\nI'd like to go to bed now. \\r\\nIt's not just the sun, \\r\\nThat is hurting my head now. \\n\\r\\nI'm not trying to say, \\r\\nThat I'm smelling of roses, \\r\\nBut when will we tire, \\r\\nOf putting shit up our noses. \\n\\r\\nI don't like staying up, \\r\\nStaying up past the sunlight. \\r\\nIt's meant to be fun, \\r\\nAnd this just doesn't feel right. \\n\\r\\nWhy can't we all, \\r\\nAll just be honest, \\r\\nAdmit to ourselves, \\r\\nThat everyone's on it. \\n\\r\\nFrom grown politicians, \\r\\nTo young adolescents, \\r\\nPrescribing themselves, \\r\\nAnti-depressants. \\n\\r\\nHow can we start to tackle the problem, \\r\\nIf you don't put your hands up, \\r\\nAnd admit that you're on them. \\n\\r\\nThe kids are in danger, \\r\\nThey're all getting habits, \\r\\nBecause from what I can see, \\r\\nEveryone's at it. \\r\\nEveryone's at it. \\r\\nEveryone's at it. \\r\\nEveryone's at it. \\n\\r\\nI get involved, \\r\\nBut I'm not advocating. \\r\\nGot an opinion, \\r\\nYeah, you're well up for slating. \\n\\r\\nSo you've got a prescription, \\r\\nAnd that makes it legal. \\r\\nI find the excuses, \\r\\nOverwhelmingly feeble. \\n\\r\\nYou go to the doctor, \\r\\nYou need pills to sleep in. \\r\\nWell if you can convince him, \\r\\nThen I guess that's not cheating. \\n\\r\\nSo your daughter's depressed, \\r\\nWe'll get her straight on the prozac. \\r\\nBut little do you know, \\r\\nShe already takes crack. \\n\\r\\nWhy can't we all, \\r\\nAll just be honest, \\r\\nAdmit to ourselves, \\r\\nThat everyone's on it. \\n\\r\\nFrom grown politicians, \\r\\nTo young adolescents, \\r\\nPrescribing themselves, \\r\\nAnti-depressants. \\n\\r\\nHow can we start to tackle the problem, \\r\\nIf you don't put your hands up, \\r\\nAnd admit that you're on them. \\n\\r\\nThe kids are in danger, \\r\\nThey're all getting habits, \\r\\nBecause from what I can see, \\r\\nEveryone's at it. \\r\\nEveryone's at it. \\r\\nEveryone's at it. \\r\\nEveryone's at it. \\n\\r\\nWhy can't we all, \\r\\nAll just be honest, \\r\\nAdmit to ourselves, \\r\\nThat everyone's on it. \\n\\r\\nFrom grown politicians, \\r\\nTo young adolescents, \\r\\nPrescribing themselves, \\r\\nAnti-depressants. \\n\\r\\nHow can we start to tackle the problem, \\r\\nIf you don't put your hands up, \\r\\nAnd admit that you're on them. \\n\\r\\nThe kids are in danger, \\r\\nThey're all getting habits, \\r\\nBecause from what I can see, \\r\\nEveryone's at it. \\r\\nEveryone's at it. \\r\\nEveryone's at it. \\r\\nEveryone's at it.\\n\",\n",
       " \"\\n\\r\\nI want to be rich and I want lots of money\\nI don't care about clever I don't care about funny\\nI want loads of clothes and fuckloads of diamonds\\nI heard people die while they are trying to find them\\n\\nAnd I'll take my clothes off and it will be shameless\\n'Cause everyone knows that's how you get famous.\\n\\n[Pre-chorus:]\\nI'll look at the sun and I'll look in the mirror\\nI'm on the right track, yeah I'm on to a winner.\\n\\n[Chorus:]\\nI don't know what's right and what's real anymore\\nAnd I don't know how I'm meant to feel anymore\\nAnd when do you think it will all become clear?\\n'Cause I'm being taken over by the fear\\n\\nLife's about film stars and less about mothers\\nIt's all about fast cars and cussing each other\\nBut it doesn't matter cause I'm packing plastic\\nAnd that's what makes my life so fucking fantastic\\n\\nAnd I am a weapon of massive consumption\\nAnd it's not my fault it's how I'm programmed to function\\n\\n[Pre-chorus]\\n\\n[Chorus]\\n\\nForget about guns and forget ammunition\\n'Cause I'm killing them all on my own little mission\\nNow I'm not a saint but I'm not a sinner\\nNow everything's cool as long as I'm getting thinner\\n\\n[Chorus]\\n\",\n",
       " \"\\n\\r\\nOh he treats me with respect\\nHe says he loves me all the time\\nHe calls me fifteen times a day\\nHe likes to make sure that I'm fine\\n\\nYou know I've never met a man\\nWho's made me feel quite so secure\\nHe's not like all them other boys\\nThey're all so dumb and immature\\n\\nThere's just one thing\\nThat's getting in the way\\nWhen we go up to bed\\nYou're just no good\\nIt's such a shame\\n\\nI look into your eyes\\nI want to get to know you\\nAnd then you make this noise\\nAnd it's apparent it's all over\\n\\nIt's not fair\\nAnd I think you're really mean\\nI think you're really mean\\nI think you're really mean\\n\\nOh, you're supposed to care\\nThat you never make me scream\\nYou never make me scream\\n\\nOh, it's not fair\\nAnd it's really not ok\\nIt's really not ok\\nIt's really not ok\\n\\nOh, you're supposed to care\\nBut all you do is take\\nYeah all you do is take\\n\\nOh I lie here in the wet patch\\nIn the middle of the bed\\nI'm feeling pretty damn hard done by\\nI spent ages giving head\\n\\nThen I remember all the nice things\\nThat you've ever said to me\\nMaybe I'm just overreacting\\nMaybe you're the one for me\\n\\nThere's just one thing\\nThat's getting in the way\\nWhen we go up to bed\\nYou're just no good\\nIt's such a shame\\n\\nI look into your eyes\\nI want to get to know you\\nAnd then you make this noise\\nAnd it's apparent it's all over\\n\\nIt's not fair\\nAnd I think you're really mean\\nI think you're really mean\\nI think you're really mean\\n\\nOh, you're supposed to care\\nThat you never make me scream\\nYou never make me scream\\n\\nOh, it's not fair\\nAnd it's really not ok\\nIt's really not ok\\nIt's really not ok\\n\\nOh, you're supposed to care\\nBut all you do is take\\nYeah all you do is take\\n\\nThere's just one thing\\nThat's getting in the way\\nWhen we go up to bed\\nYou're just no good\\nIt's such a shame\\n\\nI look into your eyes\\nI want to get to know you\\nAnd then you make this noise\\nAnd it's apparent it's all over\\n\\nIt's not fair\\nAnd I think you're really mean\\nI think you're really mean\\nI think you're really mean\\n\\nOh, you're supposed to care\\nThat you never make me scream\\nYou never make me scream\\n\\nOh, it's not fair\\nAnd it's really not ok\\nIt's really not ok\\nIt's really not ok\\n\\nOh, you're supposed to care\\nBut all you do is take\\nYeah all you do is take\\n\",\n",
       " \"\\n\\r\\nWhen she was 22 the future looked bright\\nBut she's nearly 30 now and she's out every night\\nI see that look in her face she's got that look in her eye\\nShe's thinking how did I get here and wondering why\\n\\nIt's sad but it's true how society says\\nHer life is already over\\nThere's nothing to do and there's nothing to say\\n'til the man of her dreams comes along picks her up and puts her over his shoulder\\nIt seems so unlikely in this day and age\\n\\nShe's got an alright job but it's not a career\\nWherever she thinks about it, it brings her to tears\\n'Cause all she wants is a boyfriend\\nShe gets one-night stands\\nShe's thinking how did I get here\\nI'm doing all that I can\\n\\nIt's sad but it's true how society says\\nHer life is already over\\nThere's nothing to do and there's nothing to say\\n'til the man of her dreams comes along picks her up and puts her over his shoulder\\nIt seems so unlikely in this day and age\\n\\nIt's sad but it's true how society says\\nHer life is already over\\nThere's nothing to do and there's nothing to say\\n'til the man of her dreams comes along picks her up and puts her over his shoulder\\nIt seems so unlikely in this day and age\\n\",\n",
       " \"\\n\\r\\nI could say that I'll always be here for you\\r\\nBut that would be a lie and quite a pointless thing to do\\r\\nI could say that I'll always have feelings for you\\r\\nBut I've got a life ahead of me and I'm only 22\\n\\r\\nSince you've gone I've lost that chip on my shoulder\\r\\nSince you've gone I feel like I've gotten older\\r\\nNow you're gone it's as if the whole wide world is my stage\\r\\nNow you're gone it's like I've been let out of my cage\\n\\r\\nYou always made it clear that you hated my friends\\r\\nYou made me feel so guilty when I was running round with them\\r\\nAnd everything was always about being cool\\r\\nAnd now I've come to realise there's nothing cool about you at all\\n\\r\\nSince you've gone I've lost that chip on my shoulder\\r\\nSince you've gone I feel like I've gotten older\\r\\nNow you're gone it's as if the whole wide world is my stage\\r\\nNow you're gone it's like I've been let out of my cage\\n\\r\\nSince you've gone I've lost that chip on my shoulder\\r\\nSince you've gone I feel like I've gotten older\\r\\nNow you're gone it's as if the whole wide world is my stage\\r\\nNow you're gone it's like I've been let out of my cage\\n\",\n",
       " \"\\n\\r\\nWhen we were growing up you always looked like you were having such fun\\r\\nYou always were and you always will be the taller and the prettier one\\r\\nPeople seem to love you\\r\\nThey gravitate towards you\\r\\nThat's why I started to hate you so much\\r\\nAnd I just completely ignored you\\n\\r\\nI don't know why I felt the need to keep it up for oh so long\\r\\nIt's all my fault I'm sorry you did absolutely nothing wrong\\r\\nI don't know why I felt the need to drag it out for all these years\\r\\nAll the pain I've caused you\\r\\nThe constant flow of all the tears\\r\\nBelieve me when I say that I cannot apologise enough\\r\\nWhen all you ever wanted from me was a token of my love\\r\\nAnd if it's not too late\\r\\nCould you please find it deep within your heart\\r\\nTo try and go back go back to the start\\r\\nGo back to the start\\n\\r\\nI've been so evil with my constant invasions\\r\\nBut you made it so easy for me\\r\\nYou always rise to the occasion\\r\\nI'll always pull you up on every stupid thing that you say\\r\\nBut I found it so entertaining\\r\\nMessing around with your head\\n\\r\\nI don't know why I felt the need to keep it up for oh so long\\r\\nIt's all my fault I'm sorry you did absolutely nothing wrong\\r\\nI don't know why I felt the need to drag it out for all these years\\r\\nAll the pain I've caused you\\r\\nThe constant flow of all the tears\\r\\nBelieve me when I say that I cannot apologise enough\\r\\nWhen all you ever wanted from me was a token of my love\\r\\nAnd if it's not too late\\r\\nCould you please find it deep within your heart\\r\\nTo try and go back go back to the start\\r\\nGo back to the start\\r\\nGo back to the start\\r\\nGo back to the start\\n\\r\\nThis is not just a song\\r\\nI intend to put these words into action\\r\\nI hope that it sums up the way that I feel to your satisfaction\\n\\r\\nI don't know why I felt the need to keep it up for oh so long\\r\\nIt's all my fault I'm sorry you did absolutely nothing wrong\\r\\nI don't know why I felt the need to drag it out for all these years\\r\\nAll the pain I've caused you\\r\\nThe constant flow of all the tears\\r\\nBelieve me when I say that I cannot apologise enough\\r\\nWhen all you ever wanted from me was a token of my love\\r\\nAnd if it's not too late\\r\\nCould you please find it deep within your heart\\r\\nTo try and go back go back to the start\\r\\nGo back to the start\\n\",\n",
       " \"\\n\\r\\nI don't wanna hurt you cause I don't think it's a virtue\\nBut you and I have come to our end\\nBelieve me when I tell you that I never wanna see you again\\nAnd please can you stop calling cause it's getting really boring\\nAnd I've told you I don't want to be friends\\nBelieve me when I tell you that I never wanna see you again\\n\\nHow on earth could I be any more obvious?\\nIt never really did and now it's never gonna happen with the two of us\\nI don't understand what it is that you're chasing after\\nBut it makes me really sad to hear you sound so desperate\\nIt just makes it harder\\n\\nI can see how it's confusing - it could be considered using\\nWhen I call you up straight out of the blue\\nBut I don't understand what else a girl in my position's to do\\nNow I know you feel betrayed but it's been weeks since I got laid\\nThis doesn't mean that I don't think you're a fool\\nBut I don't understand what else a girl in my position's to do\\n\\nHow on earth could I be any more obvious?\\nIt never really did and now it's never gonna happen with the two of us\\nI don't understand what it is that you're chasing after\\nBut it makes me really sad to hear you sound so desperate\\nIt just makes it harder\\n\\nI know it's rather ugly cause I know that you still love me\\nAnd this isn't any kind of excuse\\nI don't love you, I don't love you...\\n\\nHow on earth could I be any more obvious?\\nIt never really did and now it's never gonna happen with the two of us\\nI don't understand what it is that you're chasing after\\nBut it makes me really sad to hear you sound so desperate\\nIt just makes it harder\\n\",\n",
       " \"\\n\\r\\nLook inside\\nLook inside your tiny mind\\nNow look a bit harder\\n'Cause we're so uninspired, so sick and tired of all the hatred you harbor\\n\\nSo you say\\nIt's not okay to be gay\\nWell I think you're just evil\\nYou're just some racist who can't tie my laces\\nYour point of view is medieval\\n\\nFuck you\\nFuck you very, very much\\n'Cause we hate what you do\\nAnd we hate your whole crew\\nSo please don't stay in touch\\n\\nFuck you\\nFuck you very, very much\\n'Cause your words don't translate\\nAnd it's getting quite late\\nSo please don't stay in touch\\n\\nDo you get\\nDo you get a little kick out of being slow-minded?\\nYou want to be like your father\\nIt's approval you're after\\nWell that's not how you find it\\n\\nDo you\\nDo you really enjoy living a life that's so hateful?\\n'Cause there's a hole where your soul should be\\nYou're losing control of it and it's really distasteful\\n\\nFuck you\\nFuck you very, very much\\n'Cause we hate what you do\\nAnd we hate your whole crew\\nSo please don't stay in touch\\n\\nFuck you\\nFuck you very, very much\\n'Cause your words don't translate and it's getting quite late\\nSo please don't stay in touch\\n\\nFuck you, fuck you, fuck you,\\nFuck you, fuck you, fuck you,\\nFuck you\\n\\nYou say, you think we need to go to war\\nWell you're already in one,\\n'Cause its people like you\\nThat need to get slew\\nNo one wants your opinion\\n\\nFuck you\\nFuck you very, very much\\n'Cause we hate what you do\\nAnd we hate your whole crew\\nSo please don't stay in touch\\n\\nFuck you\\nFuck you very, very much\\n'Cause your words don't translate and it's getting quite late\\nSo please don't stay in touch\\n\\nFuck you, fuck you, fuck you\\nFuck you, fuck you, fuck you\\n\",\n",
       " '\\n\\r\\nIt\\'s 5 o\\' clock in the morning,\\nConversation got boring,\\nYou said you\\'re going to bed soon,\\nSo I snuck off to your bedroom,\\nAnd I thought I\\'d just wait there,\\nUntil I heard you come up the stairs,\\nAnd I pretended I was sleeping,\\nAnd I was hoping you would creep in with me.\\n\\nYou put your arm around my shoulder,\\nIt was as if the room got colder,\\nAnd we moved closer in together,\\nAnd started talking about the weather,\\nYou said tomorrow would be fun,\\nAnd we could watch \"A Place In The Sun\",\\nI didn\\'t know where this was going,\\nWhen you kissed me.\\n\\nAre you mine? Are you mine?\\n\\'Cause I stay here all the time,\\nWatching telly, Drinking wine,\\nWho\\'d have known? Who\\'d have known?\\nWhen you flash up on my phone,\\nI no longer feel alone,\\nNo longer feel alone.\\n\\nI haven\\'t left you for days now,\\nAnd I\\'m becoming amazed how,\\nYou\\'re quite affectionate in public,\\nIn fact your friend said it made her feel sick,\\nAnd even though it\\'s moving forward,\\nThere\\'s just the right amount of awkward,\\nAnd today you accidentally,\\nCalled me baby.\\n\\nAre you mine? Are you mine?\\n\\'Cause I stay here all the time,\\nWatching telly, Drinking wine,\\nWho\\'d have known? Who\\'d have known?\\nWhen you flash up on my phone,\\nI no longer feel alone,\\n\\nLet\\'s just stay, Let\\'s just stay,\\nI wanna lie in bed all day,\\nWe\\'ll be laughing all the way,\\nYou told your friends,\\nThey all know,\\nThat we exist but we\\'re taking it slow,\\nLet\\'s just see how we go,\\nNow let\\'s see how we go.\\n[2x]\\n',\n",
       " \"\\n\\r\\nI see you from the sky\\r\\nAnd I wonder how long it will take me to get home\\r\\nI wait for an hour or so at the carousel\\r\\nI have a cigarette to pass the time\\r\\nCause the traffic's hell\\n\\r\\nI don't want anything more\\r\\nThan to see your face when you open the door\\r\\nYou'll make me beans on toast and a nice cup of tea\\r\\nAnd we'll get a Chinese and watch TV\\r\\nTomorrow we'll take the dog for a walk\\r\\nAnd in the afternoon then maybe we'll talk\\r\\nI'll be exhausted so I'll probably sleep\\r\\nAnd we'll get a Chinese and watch TV\\n\\r\\nYou wipe the tears from my eye\\r\\nAnd you say that all that it takes is a phone call\\r\\nI cry at the thought of being alone and then\\r\\nI wonder how long it will take til I'm home again\\n\\r\\nI don't want anything more\\r\\nThan to see your face when you open the door\\r\\nYou'll make me beans on toast and a nice cup of tea\\r\\nAnd we'll get a Chinese and watch TV\\r\\nTomorrow we'll take the dog for a walk\\r\\nAnd in the afternoon then maybe we'll talk\\r\\nI'll be exhausted so I'll probably sleep\\r\\nAnd we'll get a Chinese and watch TV\\n\\r\\nI know it doesn't seem so fair\\r\\nBut I'll send you a postcard when I get there\\n\\r\\nI don't want anything more\\r\\nThan to see your face when you open the door\\r\\nYou'll make me beans on toast and a nice cup of tea\\r\\nAnd we'll get a Chinese and watch TV\\r\\nTomorrow we'll take the dog for a walk\\r\\nAnd in the afternoon then maybe we'll talk\\r\\nI'll be exhausted so I'll probably sleep\\r\\nAnd we'll get a Chinese and watch TV\\n\",\n",
       " \"\\n\\r\\nWould you please take me away from this place\\r\\nI cannot bear to see the look upon your faces\\r\\nAnd if there is some kind of god do you think he's pleased\\r\\nWhen he looks down on us I wonder what he sees\\r\\nDo you think he'd think the things we do are a waste of time\\r\\nMaybe he'd think we are getting on just fine\\r\\nDo you think he's skint or financially secure\\r\\nAnd come election time I wonder who he'd vote for\\n\\r\\nEver since he can remember people have died in his good name\\r\\nLong before that September\\r\\nLong before hijacking planes\\r\\nHe's lost the will he can't decide\\r\\nHe doesn't know who's right or wrong\\r\\nBut there's one thing that he's sure of this has been going on too long\\n\\r\\nDo you think he'd drive in his car without insurance\\r\\nNow is he interesting or do you think he'd bore us\\r\\nDo you think his favourite type of human is caucasian\\r\\nDo you reckon he's ever been done for tax evasion\\r\\nDo you think he's any good at remembering people's names\\r\\nDo you think he's ever taken smack or cocaine\\r\\nI don't imagine he's ever been suicidal\\r\\nHis favourite band is Creedence Clearwater Revival\\n\\r\\nEver since he can remember people have died in his good name\\r\\nLong before that September\\r\\nLong before hijacking planes\\r\\nHe's lost the will he can't decide\\r\\nHe doesn't know who's right or wrong\\r\\nBut there's one thing that he's sure of this has been going on too long\\n\\r\\nEver since he can remember people have died in his good name\\r\\nLong before that September\\r\\nLong before hijacking planes\\r\\nHe's lost the will he can't decide\\r\\nHe doesn't know who's right or wrong\\r\\nBut there's one thing that he's sure of this has been going on too long\\n\",\n",
       " \"\\n\\r\\nHe wasn't there when I needed him\\nNo, he was never around\\nHis reputation was preceding him\\nAnd he was out on the town\\nIt didn't matter if he let me down\\nI didn't care about the lies\\nNow all I knew was that he loved me very much\\nHe was my hero in disguise\\n\\nI'm so pleased I never gave up on him\\nOh well you wouldn't believe some of the things that he did\\nAnd everyone said you have to give him some time\\nAnd I'm glad that I gave it to him cause now everything's fine\\n\\nNow you see I never thought you'd be a constant person in my life\\nAnd I don't think that you would be if you'd have stayed with your ex-wife\\nI know you wouldn't but there is no need\\nNo need to apologise\\nBecause I know you'll always love me very much\\nYou are my hero in disguise\\n\\nI'm so pleased I never gave up on him\\nOh well you wouldn't believe some of the things that he did\\nAnd everyone said you have to give him some time\\nAnd I'm glad that I gave it to him cause now everything's fine\\n\\nYou might have thought you didn't teach me much\\nBut you taught me right from wrong\\nAnd it was when you didn't keep in touch\\nWell it taught me to be strong\\nAnd just in case you ever thought I would\\nI wouldn't change you for the world\\nBecause I know you'll always love me very much\\nI'll always be your little girl\\n\\nI'm so pleased I never gave up on him\\nOh well you wouldn't believe some of the things that he did\\nAnd everyone said you have to give him some time\\nAnd I'm glad that I gave it to him cause now everything's fine\\n\",\n",
       " \"\\n\\r\\nThere's a hole in our logic\\nThere's a hole in the sky\\nAnd one day just like magic\\nWe're all going to die\\n'Cause we didn't turn the lights off\\nAnd we didn't take the bus\\nEven though we know we should have\\nOh, silly old us\\n\\nWell we should have recycled\\nAnd saved our resources\\nWhile there's still someone else’s\\nSomeone call the armed forces\\nAnd we'll blame it on terror\\nAlso known as religion\\nBut we shouldn't feel guilt\\nFor protecting our children\\n\\nExcuse me, sir\\nBut is this what they call denial\\nJust to carry on regardless\\nWe'll only do it for a while\\nWe'll carry on straight down the line\\nDown the road to nowhere\\nDo you know where it is leading us\\nAnd do we even wanna go there\\n\\nI don't have the answers\\nI don't know where we start\\nStart to pick up all the pieces\\nOf everything we've torn apart\\nNow, you'd think that we'd be grateful\\nFor the fact we've got a choice\\nInstead we throw it back at people\\nWho don't even have a voice\\n\\nAnd the teachers always told us\\nTold us we should love thy neighbor\\nAnd my mother always told me\\nTold me I should vote New Labour\\nBut I don't know who to trust\\nAnd I just find it all confusing\\nAll as useless as each other\\nPast the point of being amusing\\n\\nExcuse me, sir\\nBut is this what they call denial\\nJust to carry on regardless\\nWe'll only do it for a while\\nWe'll carry on straight down the line\\nDown the road to nowhere\\nDo you know where it is leading us\\nAnd do we even wanna go there\\n\\nUhhhhhhhhhhhhhhhhhhhhhh\\n\\nExcuse me, sir\\nBut is this what they call denial\\nJust to carry on regardless\\nWe'll only do it for a while\\nWe'll carry on straight down the line\\nDown the road to nowhere\\nDo you know where it is leading us\\nAnd do we even wanna go there\\n\",\n",
       " \"\\n\\r\\nI like apple pie\\r\\nAnd you like banoffee\\r\\nWe both love shopping for furniture\\r\\nAnd meeting for coffee\\r\\nWe pretend we're into art galleries\\r\\n'Cause it makes us feel clever\\r\\nWe're both in our element when we're on our knees\\r\\nWhatever the weather\\n\\r\\nI could be your fag hag\\r\\nAnd you could be my gay\\r\\nI'll never make you feel sad\\r\\nWhen you come out to play\\n\\r\\nI could be your fag hag\\r\\nAnd you could be my gay\\r\\nI'll never make you feel sad\\r\\nWhen you come out to play\\n\\r\\nWe don't give a fuck\\r\\nWhat people are thinking\\r\\nI know you'll always look out for me\\r\\nWhen we go out drinking\\r\\nI can ask you things I can't ask anyone\\r\\nAnd you'll give me direction\\r\\nApart from me, you're the only other person I know\\r\\nWho reads the travel section\\n\\r\\nI could be your fag hag\\r\\nAnd you could be my gay\\r\\nI'll never make you feel sad\\r\\nWhen you come out to play\\n\\r\\nI could be your fag hag\\r\\nAnd you could be my gay\\r\\nI'll never make you feel sad\\r\\nWhen you come out to play\\n\\r\\nI could be your fag hag\\r\\nAnd you could be my gay\\r\\nI'll never make you feel sad\\r\\nWhen you come out to play\\n\\r\\nI could be your fag hag\\r\\nAnd you could be my gay\\r\\nI'll never make you feel sad\\r\\nWhen you come out to play\\n\",\n",
       " 'N/A',\n",
       " \"\\n\\r\\nBeen here before, so I'm prepared\\nNot gonna lie though, I'm kinda scared\\nLace up my gloves, I'm going in\\nDon't let my kids watch me when I get in the ring\\n\\nI'll take the hits, roll with the punches\\nI'll get back up, it's not as if I've never done this\\nBut then again, the game is changing\\nCan't just come back, jump on the mic and do the same thing\\n\\nThere goes the bell, I know that sound\\nI guess it's time for me to go another round\\nNow wish me luck, I'm gonna need it\\nI'll see you on the other side, if I'm still breathing\\n\\nRiri isn't scared of Katy Perry's roaring\\nQueen B's gone back to the drawing\\nLorde smells blood, yeah, she's about to slay you\\nKid ain't one to fuck with when she's only on her debut\\n\\nWe're all watching Gaga, L-O-L like ha ha\\nDying for the art, so really she's a martyr\\nThe second best will never cut it for the divas\\nGive me that crown, bitch, I wanna be Sheezus\\n\\nI'm ready for all the comparisons\\nI think it's dumb and it's embarrassing\\nI'm switching off, no longer listening\\nI've had enough of persecution and conditioning\\n\\nMaybe it's instinct, we're only animal\\nMaybe it's healthy, maybe it's rational\\nIt makes me angry, I'm serious\\nBut then again, I'm just about to get my period\\n\\nPeriods, we all get periods\\nEvery month, yo that's what the theory is\\nIt's human nature, another cycle\\nBe nice to me, I'll make you one of my disciples\\n\\nRiri isn't scared of Katy Perry's roaring\\nQueen B's going back to the drawing\\nLorde smells blood, yeah, she's about to slay you\\nKid ain't one to fuck with when she's only on her debut\\n\\nWe're all watching Gaga, L-O-L like haha\\nDying for the art, so really she's a martyr\\nThe second best will never cut it for the divas\\nGive me that crown, bitch, I wanna be Sheezus\\n\\nI am born again, now run along and tell\\nAll of your friends to come and join us\\nGive yourselves to me, I am your leader\\nLet me be Sheezus\\nLet me be Sheezus\\n\\nI am born again, now run along and tell\\nAll of your friends to come and join us\\nGive yourselves to me, I am your leader\\nLet me be Sheezus\\n\",\n",
       " \"\\n\\r\\nGood lover, good lover\\nFeels good like a long hot summer\\nLate comer, he's a late comer\\nMy man is a bad motherfucker\\nHe can bring it, bring it all day long\\nAll other man, them been wrong\\nNobody will get to see\\n'Cause he's gonna spend his life with me\\n\\nYou can't have him\\nNo way, he's taken ladies\\nI've got me his babies\\nLook at my ring\\nHe's going nowhere till this fat lady sings\\n\\nAnd when I see his face\\nI feel like I can win the race\\nAnd when he calls, when he calls my name\\nI know we're in the long game\\nWhy would I leave him for?\\nI couldn't ask for any more\\nI wouldn't send, I wouldn't send him back\\nHe won me game, set and match\\n\\nLate comer, he's a late comer\\n\\nMy lover, my lover\\nShoots and scores like he's Maradona\\nUnder cover, under the covers\\nMy man is a bad motherfucker\\nAnybody, anyone could see\\nI'd have caught him eventually\\nMe and him have a thing that's rare\\nOther girls can look elsewhere\\n\\nYou can't have him\\nNo way, he's taken ladies\\nI've got me his babies\\nLook at my ring\\nHe's going nowhere till this fat lady sings\\n\\nAnd when I see his face\\nI feel like I can win the race\\nAnd when he calls, when he calls my name\\nI know we're in the long game\\nWhy would I leave him for?\\nI couldn't ask for any more\\nI wouldn't send, I wouldn't send him back\\nHe won me game, set and match\\n\\nYou can look girl but you can't touch\\nDon't know why I love him so much\\nCan't put this thing into words\\nMy love for him's absurd\\n\\nYou can look girl but you can't touch\\nDon't know why I love him so much\\nCan't put this thing into words\\nMy love for him's absurd\\n\\nAnd when I see his face\\nI feel like I can win the race\\nAnd when he calls, when he calls my name\\nI know we're in the long game\\nWhy would I leave him for?\\nI couldn't ask for any more\\nI wouldn't send, I wouldn't send him back\\nHe won me game, set and match\\n\\nAnd when I see his face\\nI feel like I can win the race\\nAnd when he calls, when he calls my name\\nI know we're in the long game\\nWhy would I leave him for?\\nI couldn't ask for any more\\nI wouldn't send, I wouldn't send him back\\nHe won me game, set and match\\n\\nLate comer, he's a late comer\\n\",\n",
       " \"\\n\\r\\nSomebody remind me where I am\\nMiami or Timbuktu?\\nDid I ever tell you my uncle's monkey ran away from the zoo?\\nWould you tell me what this all means?\\nWhat happens if I go through that door?\\nCause I'm looking up at the ceiling, but it's turning into the floor\\n\\nOoh\\n\\nWhen I'm bored, I, kinda drift away\\nI'm not sure, quite, why we work all day\\nI've been thinking, and I've got this plan\\n\\nLet's go, right now\\n\\nCome meet me in the sky I'll be waiting for you\\nAnd we can't hear what they say\\nUp in my air balloon, air balloon, air balloon, ha!\\nSing, sing along, along any song you want to\\nNow we're so high, it can't rain\\nUp in my air balloon, air balloon, air balloon, ha!\\n\\nNa na n-n-na na na, na na n-n-na... mmm\\nNa na n-n-na na na, na na n-n-na... mmm\\n\\nI don't like dropping names but Kurt Cobain is all in my face\\nHow the hell am I going to tell him Elvis already took first base?\\nAnd then out of the blue this cruiser's losing altitude, all we need\\nIs a little more elevation, take me back to where I can breathe\\n\\nOoh\\n\\nWhen I'm bored, I, kinda drift away\\nI'm not sure, quite, why we work all day\\nI've been thinking, and I've got this plan\\n\\nLet's go, right now\\n\\nCome meet me in the sky I'll be waiting for you\\nAnd we can't hear what they say\\nUp in my air balloon, air balloon, air balloon, ha!\\nSing, sing along, along any song you want to\\nNow we're so high, it can't rain\\nUp in my air balloon, air balloon, air balloon, ha!\\n\\nNa na n-n-na na na, na na n-n-na... mmm\\nNa na n-n-na na na, na na n-n-na... mmm\\nNa na n-n-na na na, na na n-n-na... mmm\\nNa na n-n-na na na, na na n-n-na... mmm\\n\\nShake it, sh- shake it now\\nGimme, gi-gimme, gimme some\\nSailing sa-sailing through the clouds\\nTrippin' trip trip trip it now\\n\\nShake it, sh- shake it now\\nGimme, gi-gimme, gimme some\\nSailing sa-sailing through the clouds\\nTrippin' trip trip trip it now\\n\\nNa na n-n-na\\n\\nCome meet me in the sky I'll be waiting for you\\nAnd we can't hear what they say\\nUp in my air balloon, air balloon, air balloon, ha!\\nSing, sing along along any song you want to\\nNow we're so high it can't rain\\nUp in my air balloon, air balloon, air balloon, ha!\\n\\nCome meet me in the s... Na na n-n-na na na, na na n-n-na\\nUp in my air balloon, air balloon, air balloon, ha\\nCome meet me in the s... Na na n-n-na na na, na na n-n-na\\nUp in my air balloon, air balloon, air balloon, ha ha\\n\",\n",
       " \"\\n\\r\\nIt's 2 am so why'd you stop the music?\\nI'm still swaying like I was on a cruise ship\\nTook the words straight out of my mouth\\nCome on everybody - back to my house\\nTake my hand now, you're coming over\\nIt doesn't matter you can sleep on my sofa\\nBring some fags and bring some Rizlas\\nWe're gonna party like it's nobody's business\\n\\nLet your hair down now\\nIt's the end of the week\\nAnd this is our time now\\nLet's forget everything\\nAnd put your glad rags on\\nDressing up like we're queens of the night\\n\\nWe just wanna dance the night away\\nWe don't give a damn what people say\\nWe've had enough so turn it up\\nTonight we're taking over\\nWe all wanna drink 'til we lose our minds\\nWanna lose sense of space and time\\nWe're going through, it's how we do\\nTonight we're taking over\\n\\nI feel fly\\nI'm rocking Kenzo\\nI'll get high\\nBut I ain't doing benzos\\nI might dance like your auntie\\nI don't care cause we're here to party\\nI've got a quite good record collection\\nYeah I got everything that came out on Def Jam\\nI've got Hip Hop, I've got Dub-step\\nI'll take us right through from sunrise to sunset\\n\\nLet your hair down now\\nIt's the end of the week\\nAnd this is our time now\\nLet's forget everything\\nAnd put your glad rags on\\nDressing up like we're queens of the night\\n\\nWe just wanna dance the night away\\nWe don't give a damn what people say\\nWe've had enough so turn it up\\nTonight we're taking over\\nWe all wanna drink 'til we lose our minds\\nWanna lose sense of space and time\\nWe're going through, it's how we do\\nTonight we're taking over\\n\\nDrink a little more and\\nDance a little harder\\nShout a little louder, if you like\\nMove a little faster\\nStand a little taller\\nDo whatever makes you feel alright\\n\\nDrink a little more and\\nDance a little harder\\nShout a little louder if you like\\nMove a little faster\\nStand a little taller\\nDo whatever makes you feel alright\\n\\nGo harder\\nGo harder now\\nGo harder\\nGo harder now\\n\\nWe just wanna dance the night away\\nWe don't give a damn what people say\\nWe've had enough so turn it up\\nTonight we're taking over\\nWe all wanna drink 'til we lose our minds\\nWanna lose sense of space and time\\nWe're going through, it's how we do\\nTonight we're taking over\\n\\n(Go harder)\\nWe just wanna dance the night away\\nWe don't give a damn what people say\\nWe've had enough so turn it up\\nTonight we're taking over\\n(Go harder)\\nWe all wanna drink 'til we lose our minds\\nWanna lose sense of space and time\\nWe're going through, it's how we do\\nTonight we're taking over\\n\",\n",
       " \"\\n\\r\\nWhat's going on in the magazines?\\nIt's the same damn thing in every one\\nI don't give a fuck about Delevingne\\nOr that Rita girl\\nAbout Jourdan Dunn\\nI don't wanna know about your perfect life\\nYou're a perfect wife and it makes me sick\\nI don't give a fuck about your Instagram\\nAbout your lovely house or your ugly kids\\n\\nI'm not your friend and I can't pretend\\nI ain't being funny, funny\\nLet's be clear\\nI'm here\\nI'm here to make money, money, money\\nIf I force a smile and can make it worthwhile\\nDon't touch me honey, honey\\nLet's be clear\\nI'm here\\nI'm here to make money, money, money\\n\\nInsincere, insincerely yours tonight\\n(Let's be clear\\nI'm here\\nI'm here to make money, money, money)\\nWe're all here\\nWe're all here cause the price is right\\n(Let's be clear\\nI'm here\\nI'm here to make money, money, money)\\n\\nWhatever happened to the real DJs\\nCause the chick you paid can't mix for shit\\nShe's looking good with her headphones on\\nWith her Beats by Dre\\nShe's so legit\\nI see pictures of her all the time\\nOn the Mail Online, she's everywhere\\nDoes anybody know what she does?\\nDo you know her name, do you really care?\\n\\nI'm not your friend and I can't pretend\\nI ain't being funny, funny\\nLet's be clear\\nI'm here\\nI'm here to make money, money, money\\nIf I force a smile and can make it worthwhile\\nDon't touch me honey, honey\\nLet's be clear\\nI'm here\\nI'm here to make money, money, money\\n\\nInsincere, insincerely yours tonight\\n(Let's be clear\\nI'm here\\nI'm here to make money, money, money)\\nWe're all here\\nWe're all here cause the price is right\\n(Let's be clear\\nI'm here\\nI'm here to make money, money, money)\\n\\nI've never been one to moan\\nBut you're doing in my head now\\nDoing in my head\\nDoing in my head\\nDoing in my head\\nWon't somebody take me home?\\nI'm ready for my bed now\\nReady for my bed\\nReady for my bed\\nReady for my bed\\n\\nInsincere, insincerely yours tonight\\n(Let's be clear\\nI'm here\\nI'm here to make money, money, money)\\nWe're all here\\nWe're all here cause the price is right\\n(Let's be clear\\nI'm here\\nI'm here to make money, money, money)\\n\",\n",
       " \"\\n\\r\\nAs I lay down on the bed\\nTrying to come to terms with what has just been said\\nI don't know where I should look or what to say\\nIs this happening to us today?\\n\\nIf I could then I would scream\\nI'd wipe the tears off of my face\\nWake me up if it's a dream\\nThis is more than I can take\\nI'd give everything I own\\nIf someone else could take my place\\nCould someone else please take my place?\\n\\nHow can life be so unfair?\\nI can't breathe, in fact I'm choking on the air\\nIt's all over, I can see it in your eyes\\nHold my hand, don't ever leave my side\\n\\nIf I could then I would scream\\nI'd wipe the tears off of my face\\nWake me up if it's a dream\\nThis is more than I can take\\nI'd give everything I own\\nIf someone else could take my place\\nCould someone else please take my place?\\n\\nIf I could then I would scream\\nI'd wipe the tears off of my face\\nWake me up if it's a dream\\nThis is more than I can take\\nI'd give everything I own\\nIf someone else could take my place\\nCould someone else please take my place?\\n\",\n",
       " '\\n\\r\\nIt seems like only yesterday you were with somebody else\\nSoon as it was over though I had claimed you for myself\\nDidn\\'t take me long before I had moved my stuff to yours\\nGlad to leave the past behind and I\\'m glad to close the door\\n\\nBecause you know I love you\\nBecause you know I love you\\n\\nSo far has been so good and it seems that we\\'ll stand the test of time\\nYou never call me \"baby\" but you refer to me as \"mine\"\\nWhat I like the best is how you can keep me on my toes\\nStaying home with you is better than sticking things up my nose\\n\\nI had that awful feeling, that I needed help\\nMy life had lost its meaning, but you saved me from myself\\nAs long as I\\'ve got you and we can be\\nTogether and forever just you and me, well, that\\'s swell\\n\\nYou sleep with your mouth wide open and you go to the pub alone\\nYou only cook from frozen but I don\\'t ever hear you moan\\nYou let me lie in bed when you\\'re doing breakfast with the kids\\nI\\'ve landed on my feet with you, I\\'m so happy, this is how we live\\n\\nBecause you know I love you\\nBecause you know I love you\\n\\nI had that awful feeling, that I needed help\\nMy life had lost its meaning, but you saved me from myself\\nAs long as I\\'ve got you and we can be\\nTogether and forever just you and me, well, that\\'s swell\\n\\nI had that awful feeling, that I needed help\\nMy life had lost its meaning, but you saved me from myself\\nAs long as I\\'ve got you and we can be\\nTogether and forever just you and me, well, that\\'s swell\\n\\nAs long as I\\'ve got you and we can be\\nTogether and forever just you and me, well, that\\'s swell\\n\\nAs long as I\\'ve got you and we can be\\nTogether and forever just you and me, well, that\\'s swell\\n',\n",
       " \"\\n\\r\\nHey hey\\nHey hey\\n\\nBaby baby\\nI have to say\\nThat there's something you should know\\nWhen I'm standing there in my underwear\\nI know that I've let myself go\\nBut I still feel sexy\\nWhen you undress me\\nAnd whisper in my ear\\nCome over here\\nCome over here\\n\\nLet's spice it up, you can dress me up\\nI'll be anyone you like\\nGet my leathers on\\nYeah, let's get it on\\nCome on, ride me like a bike\\nI'll be Beyoncé\\nBaby say my name\\nTonight you are my Hova\\nBaby come over\\nBaby come over\\n\\nClose your eyes\\nBaby take off your shirt\\nI'ma just hit the lights\\nCome on let me get to work\\nI'm gonna hypnotize you\\nThen I'm gonna yank your chain\\nWe can do it again\\nAll over again\\n\\nDriving your sedan up to my mini van\\nI'll see you in my mirror\\nAin't no other chick\\nGonna cop my shit\\nYou know I'd have to kill her\\nYou know how to use it\\nThat I'm 'bout to lose it\\nYou blow my fucking mind\\nPark it right up behind\\nPark it right up behind\\n\\nClose your eyes\\nBaby take off your shirt\\nI'ma just hit the lights\\nCome on let me get to work\\nI'm gonna hypnotize you\\nThen I'm gonna yank your chain\\nAnd we can do it again\\nAll over again\\n\\nWhere'd you learn to do the things you do?\\nYou're everything, you're all my dreams come true\\nYou know your way around like no one else\\nYou're right there\\nLike you care\\nYou're so close, I'm nearly there\\nOoh yeah!\\n\\nCome on now baby, yeah\\nCome on now baby, yeah\\nCome on baby, right there\\nCome on baby now, yeah\\nCome on baby, yeah\\nCome on baby not there\\nCome on baby, right there\\n\\nClose your eyes\\nBaby take off your shirt\\nI'ma just hit the lights\\nCome on let me get to work\\nI'm gonna hypnotize you\\nThen I'm gonna yank your chain\\nWe can do it again\\nAll over again\\n\\nClose your eyes\\nBaby take off your shirt\\nI'ma just hit the lights\\nCome on let me get to work\\nI'm gonna hypnotize you\\nThen I'm gonna yank your chain\\nWe can do it again\\nAll over again\\n\",\n",
       " \"\\n\\r\\nI work at home in my parents' basement\\nI don't troll, I make statements\\nI'm not a cliche sittin' in my PJ's\\nDouble cupping at lunch on a Tuesday\\nI'm like Drake, see? So don't hate me!\\nI get vexed if you don't appreciate me\\nReal talk, I'll put the world to rights\\nAnd when I'm a big boy I'm gonna write for Vice\\n\\nIt's not for me\\nIt must be wrong\\nI could ignore it and move on\\nBut I'm a Broadband Champion\\nA URL Badman\\nAnd if you're tryna call it art\\nI'll have to take it all apart\\nI got a high-brow game plan\\nA URL Badman\\n\\nI'm a U-R-L B-A-D M-A-N with no empathy\\nI got a high-brow game plan\\nA URL Badman\\nI'm a U-R-L B-A-D M-A-N and you're dead to me\\n'Cause I'm a Broadband Champion\\nA URL Badman\\n\\nSpectacles with no prescription\\nShort-shorts with conviction\\nSupreme palace, APC\\nSizzurp in a chalice, yeah, that's so me\\nI'm a London white boy rapping ATL\\nKeyboard Warrior that can't spell\\nI don't like you, I think you're worthless\\nI wrote a long piece about it up on my WordPress\\n\\nIt's not for me\\nIt must be wrong\\nI could ignore it and move on\\nBut I'm a Broadband Champion\\nA URL Badman\\nAnd if you're tryna call it art\\nI'll have to take it all apart\\nI got a high-brow game plan\\nA URL Badman\\n\\nI'm a U-R-L B-A-D M-A-N with no empathy\\nI got a high-brow game plan\\nA URL Badman\\nI'm a U-R-L B-A-D M-A-N and you're dead to me\\n'Cause I'm a Broadband Champion\\nA URL Badman\\n\\nI like Jordans, Joyrich, DJ's screw shit\\nI'm as complex, Pitchfork, Winnie The Pooh shit\\nI'm a space ghost perpetrator\\na bottom half of idolater\\na check for Tyler the Creator\\na blogespheric vindicator\\nA$AP, Kanye, XX remix\\nMike Jones, Paul Wall, I need a Kleenex\\nI don't like girls much, they're kinda silly\\nUnless of course they wanna play with my willy\\n\\nI'm a U-R-L B-A-D M-A-N with no empathy\\nI got a high-brow game plan\\nA URL Badman\\nI'm a U-R-L B-A-D M-A-N and you're dead to me\\n'Cause I'm a Broadband Champion\\nA URL Badman\\n\\nI got a high-brow game plan\\nA URL Badman\\n\",\n",
       " \"\\n\\r\\nSo I went to posh school\\nWhy would I deny it?\\nSilver spoon at the ready\\nSo don't even try it\\nYeah the house I grew up in it was Georgian\\nTen bedrooms, beautiful proportions\\nCan't say that life isn't easy\\nDouble negative: can't nothing please me?\\nOnly made it here\\nCause of my daddy\\nFuck your teabags\\nYo, where's my tea caddy?\\n\\n(This life, that life)\\nLife isn't fair but we're all gon' try\\n(It's not fair, it's not right)\\nDoing my thing I'm just\\nKeeping my head down and...\\n\\nDo we have to\\nKeep talking about\\nWhere you think it is I'm from?\\nAnd I'ma make you see\\nYou don't know me\\nYou don't know me\\nNo, things never change\\nNo telling some people\\nI can not believe\\nI'm still here\\nStill telling you that you're wrong\\nAnd aren't you losing sleep?\\nYou don't know me\\nYou don't know me\\nNo, things never change\\nNo telling some people\\n\\nSo I got a trust fund, so what am I doing?\\nBuying property, can't be bothered with the viewings\\nI'm getting hungry, could you fetch my butler?\\nStep back I couldn't be any humbler\\nSucked dick, got signed to a major\\nI'll do anything just to entertain you\\nI'm from West eleven, and when it's over\\nI'm going straight to Heaven, in a Range Rover\\n\\n(This life, that life)\\nLife isn't fair but we're all gon' try\\n(It's not fair, it's not right)\\nDoing my thing I'm just\\nKeeping my head down and...\\n\\nDo we have to\\nKeep talking about\\nWhere you think it is I'm from?\\nAnd I'ma make you see\\nYou don't know me\\nYou don't know me\\nNo, things never change\\nNo telling some people\\nI can not believe\\nI'm still here\\nStill telling you that you're wrong\\nAnd aren't you losing sleep?\\nYou don't know me\\nYou don't know me\\nNo, things never change\\nNo telling some people\\n\\nYou don't know me\\nYou don't know me\\nNo, things never change\\nNo telling some people\\n\\nRound and round again (Oh, oh)\\nPlease could you repeat the question?\\nDriving round the bend (Oh, oh)\\nI've heard it all before, and then some\\nRound and round again (Oh, oh)\\nPlease could you repeat that question?\\n\\nDoing my thing I'm just\\nKeeping my head down and...\\n\\nDo we have to\\nKeep talking about\\nWhere you think it is I'm from?\\nAnd I'ma make you see\\nYou don't know me\\nYou don't know me\\nNo, things never change\\nNo telling some people\\nI can not believe\\nI'm still here\\nStill telling you that you're wrong\\nAnd aren't you losing sleep?\\nYou don't know me\\nYou don't know me\\nNo, things never change\\nNo telling some people\\n\\nAnd I'ma make you see\\nYou don't know me\\nYou don't know me\\nNo, things never change\\nNo telling some people\\n\\nAnd aren't you losing sleep?\\nYou don't know me\\nYou don't know me\\nNo, things never change\\nNo telling some people\\n\\nAnd I'ma make you see\\nYou don't know me\\nYou don't know me\\nNo, things never change\\nNo telling some people\\n\",\n",
       " '\\n\\r\\nWhen the day\\'s over and I have a second to myself\\nI lie on the sofa watching TV\\nGet on the computer and start checking up on everyone else\\nOn everyone else\\n\\nLooking at all the pictures\\nUp to all sorts of mischief\\nSome of them are ridiculous\\nEverything\\'s there to see\\n\\nEveryone looks so wasted\\nTotally off their faces\\nI feel so isolated\\nEveryone there but me\\n\\nWhy does it feel like I\\'m missing something?\\n\"Been there and done that\" was good for nothing\\nEverything\\'s perfect, yeah I\\'m as content as can be\\nThis is the life for me (This is the life for me, yeah)\\n\\nTell me I\\'m normal for feeling like this\\nIt\\'s a bit early for a midlife crisis\\nEverything\\'s perfect, yeah I\\'m as content as can be\\nThis is the life for me (This is the life for me, yeah)\\n\\nI\\'m not complaining but last night I hardly slept at all\\nBut actually yes I am complaining\\nNo energy left in me, the baby might have taken it all\\nCause I\\'ve hit the wall\\n\\nPlease don\\'t think that I\\'m being rude\\nHoney I\\'m just not in the mood\\nI\\'m head to toe in baby food\\nSo please will you give it a rest\\n\\nIt\\'s not that I don\\'t love you\\nAnd it\\'s not that I don\\'t want to\\nHonestly baby to tell you the truth\\nI feel like a bit of a mess\\n\\nWhy does it feel like I\\'m missing something?\\n\"Been there and done that\" was good for nothing\\nEverything\\'s perfect, yeah I\\'m as content as can be\\nThis is the life for me (This is the life for me, yeah)\\n\\nI could never get bored of it\\nAnd most of the time I love this\\nBut sometimes I get nostalgic\\nWhen actually I\\'m complete\\n\\nWhy does it feel like I\\'m missing something?\\n\"Been there and done that\" was good for nothing\\nEverything\\'s perfect, yeah I\\'m as content as can be\\nThis is the life for me (This is the life for me, yeah)\\n\\nEverything\\'s perfect, yeah I\\'m as content as can be\\nThis is the life for me (This is the life for me, yeah)\\n',\n",
       " \"\\n\\r\\nI suppose I should tell you what this bitch is thinking\\nYou'll find me in the studio and not in the kitchen\\nI won't be bragging 'bout my cars or talking 'bout my chains\\nDon't need to shake my ass for you 'cause I've got a brain\\n\\nIf I told you 'bout my sex life, you'd call me a slut\\nWhen boys be talking about their bitches, no one's making a fuss\\nThere's a glass ceiling to break, uh-huh, there's money to make\\nAnd now it's time to speed it up 'cause I can't move at this pace\\n\\nSometimes it's hard to find the words to say\\nI'll go ahead and say them anyway\\nForget your balls and grow a pair of tits\\n\\nIt's hard, it's hard, it's hard out here for a bitch\\nIt's hard for a bitch (for a bitch) for a bitch,\\nIt's hard\\nIt's hard out here for a bitch\\nIt's hard for a bitch (for a bitch) for a bitch,\\nIt's hard\\nIt's hard out here\\n\\nIf you're not a size six, then you're not good looking\\nWell, you better be rich, or be real good at cooking\\nYou should probably lose some weight 'cause we can't see your bones\\nYou should probably fix your face or you'll end up on your own\\n\\nDon't you want to have somebody who objectifies you?\\nHave you thought about your butt? Who's gonna tear it in two?\\nWe've never had it so good, uh-huh, we're out of the woods\\nAnd if you can't detect the sarcasm, you've misunderstood\\n\\nSometimes it's hard to find the words to say\\nI'll go ahead and say them anyway\\nForget your balls and grow a pair of tits\\n\\nIt's hard, it's hard, it's hard out here for a bitch\\nIt's hard for a bitch (for a bitch) for a bitch,\\nIt's hard\\nIt's hard out here for a bitch\\nIt's hard for a bitch (for a bitch) for a bitch,\\nIt's hard\\nIt's hard out here\\n\\nA bitch, a bitch, a bitch, bitch, bitch \\nA bitch, a bitch, a bitch, bitch, bitch \\nA bitch, a bitch, a bitch, bitch, bitch \\nA bitch, a bitch, a bitch, bitch, bitch \\n\\nInequality promises that it's here to stay\\nAlways trust the injustice 'cause it's not going away\\nInequality promises that it's here to stay\\nAlways trust the injustice 'cause it's not going away\\n\\nSometimes it's hard to find the words to say\\nI'll go ahead and say them anyway\\nForget your balls and grow a pair of tits\\n\\nIt's hard, it's hard, it's hard out here for a bitch\\nIt's hard for a bitch (for a bitch) for a bitch,\\nIt's hard\\nIt's hard out here for a bitch\\nIt's hard for a bitch (for a bitch) for a bitch,\\nIt's hard\\nIt's hard out here\\n\\nIt's hard, it's hard, it's hard out here for a bitch\\nIt's hard for a bitch (for a bitch) for a bitch,\\nIt's hard\\nIt's hard out here for a bitch\\nIt's hard for a bitch (for a bitch) for a bitch,\\nIt's hard\\nIt's hard out here\\n\\nBitch\\n\",\n",
       " \"\\n\\r\\nI'm a beautiful (beautiful)\\nPowerful (powerful)\\nFashionable (best dressed)\\nAnimal\\n\\nBut I'm miserable without your love\\nMiserable without your love\\nI am miserable without your love\\nMiserable without your love\\n\",\n",
       " \"\\n\\r\\nI walked across an empty land\\nI knew the pathway like the back of my hand\\nI felt the earth beneath my feet\\nSat by the river and it made me complete\\n\\nOh simple thing, where have you gone?\\nI'm getting tired and I need someone to rely on\\n\\nI came across a fallen tree\\nI felt the branches of it looking at me\\nIs this the place we used to love?\\nIs this the place that I've been dreaming of?\\n\\nOh simple thing, where have you gone?\\nI'm getting old and I need something to rely on\\n\\nAnd if you have a minute why don't we go\\nTalk about it somewhere only we know?\\nThis could be the end of everything,\\nSo why don't we go\\nSomewhere only we know?\\nSomewhere only we know?\\n\\nOh simple thing, where have you gone?\\nI'm getting old and I need someone to rely on\\nSo tell me when you're gonna let me in\\nI'm getting tired and I need somewhere to begin\\n\\nAnd if you have a minute why don't we go\\nTalk about it somewhere only we know?\\n'Cause this could be the end of everything,\\nSo why don't we go\\nSomewhere only we know?\\nSomewhere only we know?\\n\",\n",
       " \"\\n\\r\\nWhy don't you keep your eyes on the road\\nKeep yourself to yourself\\nOr you're gonna explode\\nDon't concern yourself in my shit\\nIf I told you the truth\\nWell you probably couldn't handle it\\nWhat's it got to do with you\\nI don't care what you get up to\\nDidn't ask for your opinion\\nNot your business\\nWind your neck in\\n\\nWhy'd you think you're better\\nLittle rubber-necker\\nNo one likes a trouble maker\\nPull up your socks\\nThere's nothing to see here\\nWhy'd you have to be here\\nCan't you turn around and get back into your box\\n\\nWind your neck in\\nWi-wi-wi-wind your neck in\\nWind your neck in\\nWi-wi-wi\\n\\nI've always said each to their own\\nWon't you give me a break\\nWon't you throw me a bone\\nI'm a different kettle of fish\\nIf you don't understand\\nJust look the other way, you bitch\\nI'll do my thing, you do yours\\nWhat you get up to behind closed doors\\nNot of interest, I've no opinion\\nIt's not my business\\nWind your neck in\\n\\nWhy'd you think you're better\\nLittle rubber-necker\\nNo one likes a trouble maker\\nPull up your socks\\nThere's nothing to see here\\nWhy'd you have to be here\\nCan't you turn around and get back into your box\\n\\nWind your neck in\\nWi-wi-wi-wind your neck in\\nWind your neck in\\nWi-wi-wi\\n\\nDown, down\\nThe rubber-neckers slow me down\\nWhen will they ever work it out\\nNo, they can't run me out of town\\n\\nWhy'd you think you're better\\nLittle rubber-necker\\nNo one likes a trouble maker\\nPull up your socks\\nThere's nothing to see here\\nWhy'd you have to be here\\nCan't you turn around and get back into your box\\n\\nWind your neck in\\nWi-wi-wi-wind your neck in\\nWind your neck in\\nWi-wi-wi\\n\",\n",
       " '\\n\\r\\nYou know it always feels like\\nYou take her side\\nClicks her fingers\\nAnd you arrive to see her cry\\nI’ve got two of my own kids\\nI’m a slave to my mortgage\\nI don’t ask you for nothing\\nWill it always be like this?\\n\\nAnd you’re struggling to hide it\\nAnd I know you’ve decided\\nIt’s not each in your own way\\nI can tell but you won’t say\\n\\nWho do you love? [x10]\\nWho do you love? [x10]\\nWho do you love?\\n\\nShe reads like a textbook\\nI do things in other ways\\nNever did understand\\nAnd when she cries I walk away\\nShe’s has younger than my kids\\nYou’re a slave for her baggage\\nAnd I try but it wears thin\\nTo be nice but I can’t win\\n\\nAnd you’re struggling to hide it\\nAnd I know you’ve decided\\nIt’s not each in your own way\\nI can tell but you won’t say\\n\\nWho do you love? [x10]\\nWho do you love? [x10]\\nWho do you love?\\n\\nMother, mother, mother\\nI’m in need of your attention\\nCan we hold a conversation\\nWhere she goes without a mention?\\nIf I make it look easy\\nYou can blame my good intentions\\nTake a walk in my world\\nTake a walk in my world\\n\\nWho do you love? [x10]\\nWho do you love? [x10]\\nWho do you love?\\n',\n",
       " \"\\n\\r\\nI'm a beautiful (beautiful)\\nPowerful (powerful)\\nFashionable (best dressed)\\nAnimal\\n\\nBut I'm miserable without your love\\nMiserable without your love\\nI'm miserable without your love\\nMiserable without your love\\n\\nTell me I'm brilliant and talented and that I'm the best\\nAnd do you think I've still got it I think I've been depressed\\n\\nThere's no more free shit, my packages\\nMy ten trips to the lemon trees My handbags, my pieces\\nI felt your words beneath me\\n\\nPlease sir, do you want my picture?\\nDo you want my address?\\nDo you want my fame?\\nDo you want my star?\\n\\nDo you want my beauty?\\nDo you want my power?\\nDo you want my number?\\nDo you want my love?\\n\\nI'm a beautiful (beautiful)\\nPowerful (powerful)\\nFashionable (best dressed)\\nAnimal\\n\\nBut I'm miserable without your love\\nMiserable without your love\\nI'm miserable without your love\\nMiserable without your love\\n\\nSometimes I think to myself\\nThat I might have got it all\\nThe path I've chosen\\nMight not be the one I should be on\\n\\nI can't get enthusiastic\\nAbout a shit load of plastic\\nI thought that would be easy\\nI thought it would complete me\\n\\nBut I want my evenings\\nAnd I want my girlfriends\\nAnd I want my peace\\nAnd I want my drugs\\n\\nAnd I want my figure\\nAnd I want my glamour\\nAnd I want my life back\\nWhere you're mine\\n\\nI'm a beautiful (beautiful)\\nPowerful (powerful)\\nFashionable (best dressed)\\nAnimal\\n\\nBut I'm miserable without your love\\nMiserable without your love\\nI'm miserable without your love\\nMiserable without your love\\n\\nIf I lay down\\nWhat would I be\\nWhat if I starved\\nWould you like me\\n\\nWhat have I done\\nWould you show me\\nHow I lost my grip\\nWill you stand by me\\n\\nI'm a beautiful (beautiful)\\nPowerful (powerful)\\nFashionable (best dressed)\\nAnimal\\n\\nBut I'm miserable without your love\\nMiserable without your love\\nI'm miserable without your love\\nMiserable without your love\\n\\nI'm a beautiful (beautiful)\\nPowerful (powerful)\\nFashionable (best dressed)\\nAnimal\\n\\nBut I'm miserable without your love\\nMiserable without your love\\nI'm miserable without your love\\nMiserable without your love\\n\\nI'm a beautiful (beautiful)\\nPowerful (powerful)\\nFashionable (best dressed)\\nAnimal\\n\\nBut I'm miserable without your love\\nMiserable without your love\\nI'm miserable without your love\\nMiserable without your love\\n\",\n",
       " \"\\n\\n[Verse 1:]\\nSometimes I see his face\\nI want to hold you but it feels unsafe\\nToo scared to give me heart up now\\nI'm not brave enough to play my part now\\n\\n[Bridge 1:]\\nCan you guarantee that you'll stay\\nHere with me, with me\\n\\n[Verse 2:]\\nFeels strange like a foreign thing\\nI'm still waiting for the love to kick in\\nSometimes when I watch you sleeping\\nI keep hand to check you're breathing\\n\\n[Bridge 2:]\\nIt's not fair, not your fault\\nNot at all, not at all\\n\\n[Hook:]\\nOnce bitten, twice shy\\nI try and I try, I try\\nCause I'm holding on to nothing\\nI'm holding on to nothing\\nOnce bitten, twice shy\\n\\n[Verse 3:]\\nI can't seem to find the strength\\nWhat's the point in keeping you at arm's length\\nI want to love you but I can't imagine\\nWhat I'd do if the worst did happen\\n\\n[Bridge]\\n\\n[Hook]\\n\\n[Bridge 3:]\\nWhere I've been, never thought\\nNo I won't go back\\nCouldn't take anymore\\nI'm not going back\\nGoing back, going back\\n\\n[Hook]\\n\",\n",
       " 'N/A',\n",
       " \"\\n\\r\\nI try to keep an open mind\\nI feel like I'm a better tackle of the times\\nI'm compromised\\nMy head can't always hold itself so high\\n\\nWhat if it's silent, lying?\\nEvery night I'm crying\\nAnd even if I die trying\\nI bet you'd probably quite like it\\n\\nYeah, I'm a bad mother, I'm a bad wife\\nYou saw it on the socials, you read it online\\nIf you go on record, saying that you know me\\nThen why am I so lonely?\\nCuz nobody fuckin' phones me\\n\\nYou say you see how I move\\nTell me then, then\\nTell me then, then\\nDon't act like you've been here too\\nThink again-gain\\nThink again-gain\\nI think you are being rude\\nCome on then, then\\nCome on then, then\\nCome on then\\nCome on then\\nCome on then\\n\\nCome on then, then\\nCome on then, then\\nCome on then, then\\nCome on then, then\\nSince you know so much about me\\nPut your money where your mouth is\\n\\nYou should really hush your mouth\\nAnd keep your distance if you see me when you're out\\nWon't forgive you twice\\nI'll tell you all about your miserable life\\n\\nDon't see me telling you what to do\\nWhy do you scrutinize my every move?\\nAnd what exactly are you trying to prove\\nWhen what you say's so far away from the truth?\\n\\nYeah, I'm a bad mother, I'm a bad wife\\nYou saw it on the socials, you read it online\\nIf you go on record, saying that you know me\\nThen why am I so lonely?\\nCuz nobody fuckin' phones me\\n\\nYeah, I'm a bad mother, I'm a bad wife\\nYou saw it on the socials, you read it online\\nIf you go on record, saying that you know me\\nThen why am I so lonely?\\nCuz nobody fuckin' phones me\\n\\nYou say you see how I move\\nTell me then, then\\nTell me then, then\\nDon't act like you've been here too\\nThink again-gain\\nThink again-gain\\nI think you are being rude\\nCome on then, then\\nCome on then, then\\nCome on then\\nCome on then\\nCome on then\\n\\nCome on then, then\\nCome on then, then\\nCome on then, then\\nCome on then, then\\nSince you know so much about me\\nPut your money where your mouth is\\n\",\n",
       " \"\\n\\n[Giggs:]\\nGrab a few grams and a few grand\\nWrapped in elastic in the blue bands\\nReach for handouts with your two hands\\nWho's that? We're the cool gang\\nNo hippy but it's so sticky\\nI'm a old school nigga, fam, I know Zippy\\nSteamboat Willie like the old Mickey\\nSteamboat willy, she gets the whole dicky\\n'06 ratchet, had the old flicky\\n'017, now I got the whole strip in\\nLowkey bredda on the low, sippin'\\nYou can be in the cool gang, but nigga, no slippin'\\n\\n[Lily Allen:]\\nAnd it fuels my addictions\\nHanging out in this whirlwind\\nIf you cool my ambitions\\nI'm gonna cut you out\\n\\nThat's why I can't hang with the cool gang\\nEveryone's a trigger bang, bang, bang, bang, bang\\nGoodbye bad bones, I've got bigger plans\\nDon't wanna put myself in your hands\\n\\nWhen I was young I was blameless\\nPlaying with rude boys and trainers\\nI had a foot in the rave 'cause I was attracted to danger\\nI never got home for Neighbours, hey\\nWhen I grew up, nothing changed much\\nAnything went, I was famous\\nI would wake up next to strangers\\nEveryone knows what cocaine does\\nNumbing the pain when the shame comes, hey\\n\\nAnd it fuels my addictions\\nHanging out in this whirlwind\\nIf you cool my ambitions\\nI'm gonna cut you out\\n\\nThat's why I can't hang with the cool gang\\nEveryone's a trigger bang, bang, bang, bang, bang\\nGoodbye bad bones, I've got bigger plans\\nDon't wanna put myself in your hands\\nThat's why I can't hang with the cool gang\\nEveryone's a trigger bang, bang, bang, bang, bang\\nGoodbye bad bones, I've got bigger plans\\nDon't wanna put myself in your hands\\n\\nBack in the day like at Yo-Yo\\nThen in LA at the Chateau\\nSomeone would say did you bang, no\\nI shake my head, I say no-no\\nMaybe we did, I don't think so, hey\\nI need to move on and grow some\\nBeen in the Firehouse for too long\\nLDN's burning, so tan one\\nI'm gonna love you and leave some\\nI'm gonna go out while I'm still strong, hey\\n\\nAnd it fuels my addictions\\nHanging out in this whirlwind\\nIf you cool my ambitions\\nI'm gonna cut you out\\n\\nThat's why I can't hang with the cool gang\\nEveryone's a trigger bang, bang, bang, bang, bang\\nGoodbye bad bones, I've got bigger plans\\nDon't wanna put myself in your hands\\nThat's why I can't hang out with the cool gang\\nEveryone's a trigger bang, bang, bang, bang, bang\\nGoodbye bad bones, I've got bigger plans\\nDon't wanna put myself in your hands\\n\",\n",
       " '\\n\\r\\nSince we separated\\nI\\'ve been suffocated, ah yeah\\nAll the empty space in my head\\nFirst I felt liberated by it\\nBut solitude is overrated\\nThe other day I swear someone said\\nSomeone else is sharing your bed\\nMaybe you picked up where I left\\nNow my heart is sinking\\nI don\\'t know what I\\'ve been thinking\\n\\nI turned a strong man weak\\nI threw him down, brought him to his knees\\nI\\'m hoping somehow he\\'ll forgive me\\nI think to myself, what you waiting for?\\nYou\\'ll never be sure\\nSwinging back and forth\\nJust leave him alone-o-one\\nWhat you waiting for?\\nYou\\'ll never be sure\\nSwinging back and forth\\nI just don\\'t know, know, know\\n\\nNow the dust has settled\\nI should probably level with you\\nMeant it when I said, \"I do\"\\nDon\\'t know why I was untrue\\nWith everything I put you through\\nHow\\'d it make you feel if I said I still love you\\nIf I could go back, select all, press undo\\nNever thought we\\'d be this couple\\nI ran at the first sign of trouble\\n\\nI turned a strong man weak\\nI threw him down, brought him to his knees\\nI\\'m hoping somehow he\\'ll forgive me\\nI think to myself, what you waiting for?\\nYou\\'ll never be sure\\nSwinging back and forth\\nJust leave him alone-o-one\\nWhat you waiting for?\\nYou\\'ll never be sure\\nSwinging back and forth\\nI just don\\'t know, know, know\\n\\nSince we separated\\nI\\'ve been suffocated, ah yeah\\nAll the empty space in my head\\nFirst I felt liberated by it\\nBut solitude is overrated\\nThe other day I swear someone said\\nSomeone else is sharing your bed\\nMaybe you picked up where I left\\nNow my heart is sinking\\nI don\\'t know what I\\'ve been thinking\\n\\nI turned a strong man weak\\nI threw him down, brought him to his knees\\nI\\'m hoping somehow he\\'ll forgive me\\nI think to myself, what you waiting for?\\nYou\\'ll never be sure\\nSwinging back and forth\\nJust leave him alone-o-one\\nWhat you waiting for?\\nYou\\'ll never be sure\\nSwinging back and forth\\nI just don\\'t know, know, know\\n',\n",
       " \"\\n\\n[Lily Allen:]\\nNot gonna lie but this might be dying\\nSurprised 'cause I thought you were alright\\nFeels like every night we're fighting\\nNo, please don't sigh\\nYeah, it's all fine\\n\\nStop crying every time I get a text\\nEvery time my phone rings\\nDon't be upset, baby\\nI've always said that no man can own me\\nIf you really wanna go, that's fine, bih\\nThat's your choice, not mine\\n\\n[Burna Boy:]\\nEverything is bless\\nLast night full of happiness\\nPon the bed, we a kiss and caress\\nAfter the sex, your phone deh pon the side ah me a rest\\nAnd this morning you got a text\\nAnd even though me vex\\nMe nah gon' say nothing, me nah gon' stress\\nMe just a reason of your conscience\\nI got to know, oh my girl, I know\\n\\n[Lily Allen:]\\nStop crying every time I get a text\\nEvery time my phone rings\\nDon't be upset, baby\\nI've always said that no man can own me\\nIf you really wanna go, that's fine, bih\\nThat's your choice, not mine\\n\\nNunna, nunna, nunna\\nNunna, nunna, nunna\\nNunna, nunna, nunna\\nNunna, nunna, nunna\\nNunna, nunna, nunna\\nNunna, nunna, nunna\\nNunna, nunna, nunna\\nNunna, nunna, nunna\\nNunna, nunna, nunna\\nNunna, nunna, nunna\\nNunna, nunna, nunna\\nNunna, nunna, nunna\\n\\nI'm kinda bored of this back and forth thing\\nNot gonna war with you, let's enjoy this time\\nFuck what you saw 'cause I'm not tryna draw for him\\nBoy, be nice, I'm yours all night\\n\\nStop crying every time I get a text\\nEvery time my phone rings\\nDon't be upset, baby\\nI've always said that no man can own me\\nIf you really wanna go, that's fine, bih\\nThat's your choice, not mine\\n\\n[Burna Boy:]\\nTell dem send it back\\nGyal this ah the real thing? The mack\\nGirlfriend cotch and relax\\nMek me tell you all the facts\\nCah you never know say me bad\\nOriginal foundation badman\\nMe know say you a freak\\nAnd you need a thug inna di sheets\\nGot everything you need\\nYou know I'm the man, I'm your man\\nAnd me nah play number two\\nSo what how do you want it?\\nYou can keep rocking the boat\\nIt's like we're listening to Aaliyah\\nThe way we go back and forth\\nGirl, I'm not speaking no more\\nI know you're bad like Marilyn Monroe\\nI see fire in your love\\n\\n[Lily Allen:]\\nStop crying every time I get a text\\nEvery time my phone rings\\nDon't be upset, baby\\nI've always said that no man can own me\\nIf you really wanna go, that's fine, bih\\nThat's your choice, not mine\\n\\nNunna, nunna, nunna\\nNunna, nunna, nunna\\nNunna, nunna, nunna\\nNunna, nunna, nunna\\nNunna, nunna, nunna\\nNunna, nunna, nunna\\nNunna, nunna, nunna\\nNunna, nunna, nunna\\nNunna, nunna, nunna\\nNunna, nunna, nunna\\nNunna, nunna, nunna\\nNunna, nunna, nunna\\n\",\n",
       " \"\\n\\r\\nI caught some feelings, now I sense a change\\nSomething beautiful has slipped away\\nI let you in and, then you disappear\\nLike the dying of another day\\n\\nI was never planning on, any of this chaos\\nI wasn't being difficult, but you still betrayed us\\n\\nNow I'm stuck, in a rut\\nKicking stones, looking at my phone all night\\nBaby I've lost my mind\\nWhen I couldn't breathe, couldn't sleep\\nAnd you say it served me right\\nMaybe I've lost my mind\\n\\nYou're on the ceiling, I'm down here on the floor\\nKeeps me coming back, keeps me begging for more\\n\\nI knew there'd be other girls, and I like the danger\\nOnce or twice I've seen your soul, you weren't always a stranger\\n\\nStuck in a rut\\nKicking stones, looking at my phone all night\\nBaby I've lost my mind\\nWhen I couldn't breathe, couldn't sleep\\nAnd you say it served me right\\nMaybe I've lost my mind\\n\\nYou wouldn't give me closure, let me get off the ride\\nAnd now I'm getting closer, to the other side\\n\\nNow I'm stuck, in a rut\\nKicking stones, looking at my phone all night\\nBaby I've lost my mind\\nWhen I couldn't breathe, couldn't sleep\\nAnd you say it, served me right\\nMaybe I've lost my mind\\n\\nStuck in a rut\\nKicking stones, looking at my phone all night\\nBaby I've lost my mind\\nStuck in a rut\\nKicking stones, looking at my phone all night\\nMaybe I've lost my mind\\n\",\n",
       " \"\\n\\r\\nPlease, you know I rate Queens\\nYo, cah that's in my jeans\\nI don't want grief, don't want drama\\nI just went out for a little Chinese\\nHad Chinese then couldn't leave\\nI lost my phone and my cards and keys\\nCame, came home four o'clock\\nWalk back like I'm, walk back like I'm chief\\n\\nDo me right\\nYou're lying\\nIt's in your eyes, don't try it\\nNo, you can't hide, have you lost your mind?\\nDid I cross your mind?\\nIt's your life, I said I'd never\\nLet you waste my time\\nI said you'd never\\nHear me say that twice\\nYou crossed that line\\nYou crossed that line\\n\\nYou know what you're doing\\nI won't listen to another excuse\\nThis time you blew it\\nThe people you used are jumping through hoops\\nI won't let you do it\\nYou can't seduce me, now who looks foolish?\\nSorry, but I know your type\\nI won't be undermined\\n\\nI can't take this down to the wire\\nSoon see if I fight fire with fire\\nDig that grave\\nYou're such a bad liar\\nStakes gettin' higher and higher and higher and higher\\n\\nHigher, higher, higher...\\n\\nYou'll be fine, stop crying\\nDry your eyes, stop fighting\\nRest that mind, give yourself some time\\nYou might like what you find\\nIt's your life, and said I'd never\\nLet you ruin mine\\nI said I'd never, ever\\nPay the price\\nYou crossed the line\\nYou crossed the line\\n\\nWhy did you do it? (Oh, yeah)\\nWhy would you choose to use and abuse me?\\nThis close to ruin (oh, yeah)\\nWhy just stand by?\\nDon't you dare roll your eyes\\nWhy put me through it?\\nEnough with the lies\\nI know what the truth is\\nSorry, but I know your type\\nI won't be undermined\\n\\nI can't take this down to the wire\\nSoon see if I fight fire with fire\\nDig that grave\\nYou're such a bad liar\\nStakes gettin' higher and higher and higher and higher\\n\\nHigher, higher, higher...\\n\",\n",
       " \"\\n\\r\\nI know that you love me\\nThough I'm young and stupid\\nI am wild and ruthless\\nYou're better off without me\\nI am more than selfish\\nI am tired, I'm helpless\\nIf I had the time of day\\nI might give all my days to you\\n\\nIt's not always easy\\nBeing a family man\\nBaby, don't leave me\\nI'm just doing what I can to get by\\n\\nI've come to the land of the free\\nI've let loose, I'm faithless\\nI am lost and chain-less\\nDon't go forgetting me\\nI don't like most people\\nBut I'm scared, not evil\\nEvery day has its challenges\\nI just never know what day it is\\n\\nIt's not always easy\\nBeing a family man\\nBaby, don't leave me\\nI'm just doing what I can to get by\\n\\nI know we're gonna pull through\\nBut darling I need my time away from you\\nI hope we're gonna make it through\\nBut darling I need my time away from you\\n\",\n",
       " \"\\n\\r\\nDo you remember way back when, at my old flat\\nWe'd stay in bed all day having sex and smoking fags\\nSo much has happened since and I wish we could go back\\nI do things differently, but I went off the tracks\\n\\nSo cliche for me to stay, I never meant to break your heart\\nI'm to blame for all your pain\\nI never could have played that part\\nI had to do it baby\\nWe were both depressed\\nTowards the end we were not even having sex\\nI felt like I was only good for writing the cheques\\nI like a drink but that does not make me a wreck\\n\\nSo cliche for me to stay, I never meant to break your heart\\nI'm to blame for all your pain\\nI never could have played that part\\n\\nSo cliche for me to stay, I never meant to break your heart\\nI'm to blame for all your pain\\nI never could have played that part\\n\\nOne year in you gave me, a set of keys\\nTwo years and you bended down on one knee\\nThree years and we're living out in the country\\nFour years and you've given me my beautiful babies\\nBut it was all too much for me\\nNow I'm exactly where I didn't want to be\\nI'm just like my mummy and my daddy\\n\\nI guess the apple doesn't fall far from the tree\\nI guess the apple doesn't fall far from the tree\\nI guess the apple doesn't fall far from the tree\\nI guess the apple doesn't fall far from the tree\\nI guess the apple doesn't fall too far from the tree\\nI guess the apple doesn't fall far from the tree\\nI guess the apple doesn't fall far from the tree\\nI guess the apple doesn't fall far from the tree\\n\",\n",
       " \"\\n\\r\\nYou saying you're going but you don't say how long for\\nYou say it's work, but I'm not sure\\nYou say you love me, then you walk right out the door\\nI'm left here wanting more\\nOf course there's lots of things I could be getting on with\\nI'm never short of things to do\\nThis afternoon I made a papier maché fish, mum\\nI made it just for you\\n\\nPlease don't go, stay here with me\\nIt's not my fault\\nI'm only three\\nI'm only three\\nI'm only three\\nI'm only three\\nI'm only three\\nI'm only three\\n\\nMy social calendar is busier than yours\\nI've been out making lots of friends\\nYou can't play with us, 'cause you're always off on tour\\nOne day I hope you'll meet them\\n\\nPlease don't go, stay here with me\\nIt's not my fault\\nI'm only three\\nI'm only three\\nI'm only three\\nI'm only three\\nI'm only three\\nI'm only three\\n\\nWhen things feel black and white\\nWe'll do some coloring in\\nWhen you want to play\\nWhen you want to play with me\\nWhen things feel black and white\\nWe'll do some coloring in\\nWhen you want to play\\nWhen you want to play with me\\n\\nPlease don't go, stay here with me\\nIt's not my fault\\nI'm only three\\nI'm only three\\nI'm only three\\nI'm only three\\nI'm only three\\nI'm only three\\n\",\n",
       " \"\\n\\r\\nI've tried everything\\nEverything\\nEverything\\nTo feel something\\nBut nothing\\n\\nI feel it in my gut\\nI'm gonna to let you fuck me\\nI knop I'm being used\\nI'm just another thing to do\\nI don't know why I do it to myself\\nGiving all my worth to someone else\\nI don't know why I do it to myself\\nI'll do it, yeah, and I'll do it 'til\\n\\nI've tried everything\\nEverything\\nEverything\\nTo feel something\\nBut nothing\\n\\nMy heartaches, my heartaches, my heartaches\\nWhy you so wicked now, heartaches\\nWhy you so wicked now, heartaches\\nMy heartaches, my heartaches, my heartaches\\nWhy you so wicked now, heartaches\\nWhy you so wicked now, heartaches\\n\\nFrom up and down, and down to up\\nSex, alcohol and drugs\\nIt's a long way off amazing\\nBut I can't ever see it changing\\nI can't tell you what I do it for\\nNothing really moves me anymore\\nI can't tell you what I do it for\\nBeen doing this and I'll do it till\\n\\nI've tried everything\\nEverything\\nEverything\\nTo feel something\\nBut nothing\\n\\nMy heartaches, my heartaches, my heartaches\\nWhy you so wicked now, heartaches\\nWhy you so wicked now, heartaches\\nMy heartaches, my heartaches, my heartaches\\nWhy you so wicked now, heartaches\\nWhy you so wicked now, heartaches\\n\\nI'm at my worst when I'm alone\\nCan't take the peace\\nSo my glass is always half empty\\nSomeone fill it up for me\\nSet me free\\nI don't want to fall in love\\nNo, all I need is for someone to walk all over me\\nClose the door behind you please\\n\\nI've tried everything\\nEverything\\nEverything\\nTo feel something\\nBut nothing\\n\\nMy heartaches, my heartaches, my heartaches\\nWhy you so wicked now, heartaches\\nWhy you so wicked now, heartaches\\nMy heartaches, my heartaches, my heartaches\\nWhy you so wicked now, heartaches\\nWhy you so wicked now, heartaches\\n\",\n",
       " \"\\n\\r\\nYou played more than a feature\\nBack then when I was, pleased to meet you\\nYou were on my team\\nYou were a bobber and a weever\\nYou're just a pagan now, non believer\\n\\nYou're all about yourself\\nNo one else\\nWho the fuck are you though?\\nI should have never ever, ever let you too close\\nIf the truth be told\\nI can't wait to see you go\\nCan't wait to see you break, break, break, break\\nBreaking your back\\nCos all you do is take, take, take, take, take\\nNever give back\\n\\nBig deal, I'm blessed\\nKeep talking I'm unimpressed\\nYou're way too out of your depths\\nMy time will not be invested\\nYou've changed\\nYou used to be my friend\\nBut I don’t know you no\\nWent too far can't undo\\nThe things you've done, they put me through, never\\n\\nYou're all about yourself\\nNo one else\\nWho the fuck are you though?\\nI should have never ever, ever let you too close\\nIf the truth be told\\nI can't wait to see you go\\nCan't wait to see you break, break, break, break\\nBreaking your back\\nCos all you do is take, take, take, take, take\\nNever give back\\n\\n[Lady Chann:]\\nYo, look pon your face\\nYou dirty stinking waste\\nMember dem times when you deh pon my case\\nStraight chase, me carry pepper-spray mace\\nYou're done for now you better tie your shoelace\\nWaste!\\nYou comin last in di race\\nYou're no one my lord, you don't even have the ace\\nNah, mate\\nIt's just all too late\\nBack up, back up, nah bodda come my way\\nWhen you check it was all so phoney\\nNuf gal yah have ya really tink seh mi lonely?\\nWhole heap a man I call my homie\\nMe give dem di wok and keep them moanin'\\n\\nYou're all about yourself\\nNo one else\\nWho the fuck are you though?\\nI should have never ever, ever let you too close\\nIf the truth be told\\nI can't wait to see you go\\nCan't wait to see you break, break, break, break\\nBreaking your back\\nCos all you do is take, take, take, take, take\\nNever give back\\nCan't wait to see you break, break, break, break\\nBreaking your back\\nCos all you do is take, take, take, take, take\\nNever give back\\n\",\n",
       " \"\\n\\r\\nBaby, I fucked half the boys in Paris\\nAnd in New York, so embarassed\\n'Cause I only need one\\nDarling\\nI woke up in Austin, Texas\\nI did decline to stay for breakfast\\n'Cause I need my one\\n\\nMy one\\nMy one\\nMy number one\\nMy one\\nMy one\\nMy number one\\n\\nHoney\\nI had a suitor in Vancouver\\nI put that loser in an Uber\\n'Cause he's not my one\\nPumpkin\\nI picked up something in Sydney\\nNow the voice inside my kidneys\\nSays I need my one\\n\\nMy one\\nMy one\\nMy number one\\nMy number one\\nMy number one\\n\\nPetal\\nThings in Gothenburg came undone\\nSo I'm heading back to London\\nTo see my one\\n\\nMy one\\nMy one\\nMy one\\nMy one\\nMy number one\\nMy number one\\n\\nMy number one\\nMy number one\\nMy number one\\nMy number one\\nMy number one\\nMy number one\\nMy number one\\nMy number one\\n\",\n",
       " \"\\n\\r\\nI don't know how to tell you\\nDon't know how to say it aloud\\nYou haven't put me in a bad mood\\nIt's you I'm all about\\nMight take a few drinks\\nTo spit this out\\nBut I really, really miss you when you're not around\\n\\nOh, I don't want to freak you out\\nBut I'm probably gonna freak you out\\nShould shut my mouth\\nBut lately, I've been thinking about maybe\\nHaving one of your babies\\nI could take your name\\nJust claim me\\nI'll save you if you'll save me\\nTill we're pushing up daisies\\nJust you and me, babe\\n\\nBaby I can see that you care\\nI'm not going anywhere\\nPromise you don't need to be scared\\nI'm not going anywhere\\nBaby I can see that you care\\nI'm not going anywhere\\nPromise you don't need to be scared\\n\\nCatching lots of feelings\\nWanna say it feels like love\\nWhen it comes to these things\\nI seem to fuck it all up\\nNever been too good at all this stuff\\nI don't want to lose you, do you believe in us?\\n\\nOh, I don't want to freak you out\\nBut I'm probably gonna freak you out\\nShould shut my mouth\\nBut lately, I've been thinking about maybe\\nHaving one of your babies\\nI could take your name\\nJust claim me\\nI'll save you if you'll save me\\nTill we're pushing up daisies\\nJust you and me, babe\\n\\nWhen we're in our 80s\\nHope that you don't hate me\\nOne day, we'll be pushing up the daisies\\nPushing up the daisies\\n\\nWhen we're in our 80s\\nHope that you don't hate me\\nOne day, we'll be pushing up the daisies\\nPushing up the daisies\\n\\nWill you stay with me till there's nothing left?\\nWhen we've lost our teeth, sleep in separate beds\\nWhen we're just a strain on the NHS\\nWill you stay with me?\\nIf I start to vote for my own interests\\nIf I'm Daily Mail reading know what's best\\nSwanning round here in my slippers and dressing gown\\nHope you'd give me a dressing down\\n\\nWhen we're in our 80s\\nHope that you don't hate me\\nOne day, we'll be pushing up the daisies\\nPushing up the daisies\\n\\nWhen we're in our 80s\\nHope that you don't hate me\\nOne day, we'll be pushing up the daisies\\nPushing up the daisies\\n\\nWhen we're in our 80s\\nHope that you don't hate me\\nOne day, we'll be pushing up the daisies\\nPushing up the daisies\\n\\nWhen we're in our 80s\\nHope that you don't hate me\\nOne day, we'll be pushing up the daisies\\nPushing up the daisies\\n\",\n",
       " \"\\n\\r\\nDon't let anyone\\nEver tell you\\nWho you are\\nOr can and can't become\\nSo what if it's one, in a hundred\\nWho's to say, you are not that one?\\nMaybe it's, sleepless nights\\nEventually you'll get a piece of that partiarchy pie\\nThey'll be tears, drawn out fights\\n\\nI don't see no reason you can't\\nHave your cake and eat it\\nHave your cake and eat it\\nHave your cake and eat it\\nHave your cake and eat it\\nHave your cake and eat it\\nHave your cake and eat it\\nHave your cake and eat it\\nHave your cake and eat it\\nHave your cake and eat it\\n\\nI know what it's like, in more difficult times\\nI was treading a line\\nBetween drive and survival\\nIf I could go back see myself as a child\\nI'd say stick to your guns girl\\nIn fact go get that rifle\\nThey will try, to take you down\\nMen in the middle\\nKeep the world spinning round\\nLove this life\\nStand your ground\\n\\nI don't see no reason you can't\\nHave your cake and eat it\\nHave your cake and eat it\\nHave your cake and eat it\\nHave your cake and eat it\\nHave your cake and eat it\\nHave your cake and eat it\\nHave your cake and eat it\\nHave your cake and eat it\\nHave your cake and eat it\\n\\nThere's some light\\nThink you need it\\nYou look so god, damn defeated\\nWhy'd you feel so cheated\\nBest believe it\\n\\nHave your cake and eat it\\nHave your cake and eat it\\nHave your cake and eat it\\nHave your cake and eat it\\nHave your cake and eat it\\nHave your cake and eat it\\nHave your cake and eat it\\nHave your cake and eat it\\nHave your cake and eat it\\nHave your cake and eat it\\nHave your cake and eat it\\nHave your cake and eat it\\nHave your cake and eat it\\nHave your cake and eat it\\nHave your cake and eat it\\nHave your cake and eat it\\nHave your cake and eat it\\nHave your cake and eat it\\n\",\n",
       " '\\n\\r\\nI turn on the radio, I can’t believe what I’m hearing\\nMaybe I’m passed it but this sounds like bullshit to me\\nIt sounds so pretentious, it all sounds the same, it’s so boring\\nSongs about unicorns songs, songs about hugging some trees\\n\\nIt might make you crack a smile\\nI don’t understand, meanwhile\\nIt goes straight over my head\\nI’m confused but I’m aware\\nSomeone gets its it somewhere\\nIt goes straight over my head\\n\\nI used to know all my stuff\\nTurn it off, I’ve had enough\\nI must be losing my head\\nIt might make you crack a smile\\nI don’t get it, meanwhile\\nIt goes straight over my head\\n\\nDon’t be so down when what’s happening is hardly surprising\\nEverythings dull its all turned into some sort of beige\\nEven the DJs are morons, they’re so patronizing\\nSometimes i wonder what people will think of this age\\n\\nIt might make you crack a smile\\nI don’t understand, meanwhile\\nIt goes straight over my head\\nI’m confused but I’m aware\\nSomeone gets its it somewhere\\nIt goes straight over my head\\n\\nI used to know all my stuff\\nTurn it off, I’ve had enough\\nI must be losing my head\\nIt might make you crack a smile\\nI don’t get it, meanwhile\\nIt goes straight over my head\\n\\nIf this is a phase then I’m disengaged from the age of beige\\nIf this is a phase then I’m disengaged from the age of beige\\nIf this is a phase then I’m disengaged from the age of beige\\nIf this is a phase then I’m disengaged from the age of beige\\n\\nIt might make you crack a smile\\nI don’t understand, meanwhile\\nIt goes straight over my head\\nI’m confused but I’m aware\\nSomeone gets its it somewhere\\nIt goes straight over my head\\n\\nI used to know all my stuff\\nTurn it off, I’ve had enough\\nI must be losing my head\\nIt might make you crack a smile\\nI don’t get it, meanwhile\\nIt goes straight over my head\\n\\nStraight over my head [x3]\\n',\n",
       " \"\\n\\r\\nDon't get me wrong, if I'm looking kind of dazzled\\nI see neon lights, whenever you walk by\\nDon't get me wrong, if you say hello and I take a ride\\nUpon a sea where the mystic moon is playing havoc with the tide\\nDon't get me wrong\\n\\nDon't get me wrong, if I'm acting so distracted\\nI'm thinking about the fireworks that go off when you smile\\nDon't get me wrong, if I split like light refracted\\nI'm only off to wander across a moonlit mile\\n\\nOnce in a while, two people meet\\nSeemingly for no reason, they just pass on the street\\nSuddenly thunder showers everywhere\\nBut who can explain the thunder and rain, but there's something in the air\\n\\nDon't get me wrong, if I come and go like fashion\\nI might be great tomorrow, but hopeless yesterday\\nDon't get me wrong, if I fall in the mode of passion\\nIt might be unbelievable, but let's not say so long\\nIt might just be fantastic, don't get me wrong\\n\",\n",
       " \"\\n\\r\\nSometimes I think he’s undressing me with his eyes\\nVisually caressing me all over\\nPlease just take me boy cuz I’m all yours\\nAnywhere do me on the sofa or your wheelie chair\\nOn the photocopying machine\\nYou can have me any way you please\\n\\nI can’t take my eyes off you, boy\\nI’m so hypnotized, you got me\\n\\nFalling\\nFalling over myself\\nLike I’m under a spell\\nOh, Daniel, I can't go on like this much longer\\nTake my clothes off\\nBend me over your desk\\nI'll be sure to impress.\\nOh, Daniel, these feelings will only get stronger\\n\\nI can’t take my eyes off you, boy\\nI’m so hypnotized, you got me\\n\\nFalling\\nFalling over myself\\nLike I’m under a spell\\nOh, Daniel, I can't go on like this much longer\\nTake my clothes off\\nBend me over your desk\\nI'll be sure to impress.\\nOh, Daniel, these feelings will only get stronger\\n\\nBridget, you better learn to play the game\\nWhat will it take for you to see their all the same?\\nOh yeah, you better come prepared\\nYou’ll never get anywhere\\nYou’ll never get anywhere\\n\",\n",
       " \"\\n\\r\\nI'm going to a town that has already been burnt down\\nI'm going to a place that has already been disgraced\\nI'm gonna see some folks who have already been let down\\nI'm so tired of America\\n\\nI'm gonna make it up for all of The Sunday Times\\nI'm gonna make it up for all of the nursery rhymes\\nThey never really seem to want to tell the truth\\nI'm so tired of you, America\\n\\nMaking my own way home\\nAin't gonna be alone\\nI've got a life to lead, America\\nI've got a life to lead\\n\\nTell me, do you really think you go to hell for having loved?\\nTell me, enough of thinking everything that you've done is good\\nI really need to know, after soaking the body of Jesus Christ in blood\\nI'm so tired of America\\n\\nI really need to know\\nI may just never see you again, or I might as well\\nYou took advantage of a world that loved you well\\nI'm going to a town that has already been burnt down\\nI'm so tired of you, America\\n\\nMaking my own way home\\nAin't gonna be alone\\nI've got a life to lead, America\\nI've got a life to lead\\nI got a soul to feed\\nI got a dream to heed\\nAnd that's all I need\\n\\nMaking my own way home\\nAin't gonna be alone\\nI'm going to a town\\nThat's already been burnt down\\n\",\n",
       " \"\\n\\r\\nI'll probably be on my own until my dying day\\nJust lying undiscovered on the floor left to decay\\nI won't have seen those place I wanted to have seen\\nI'll probably be living in some flat in Milton Keynes\\n\\nI'll probably buy groceries with coupons I collect\\nI'll have to cash them in in supermarkets I detest\\nIf I have to go to Iceland, I think I might be sick\\nI'll only go to Iceland if it's got a Reykjavik\\n\\nI'm a going nowhere, sad case, loser\\nI only ever wanted to be happy, happy, happy\\nThat's all I want to be\\n\\nI'll probably find someone who can be my\\nI'll try to make him stay with me for longer than one night\\nI imagine he'll then realize I'm approaching 33\\nHe'll go off with someone younger and much prettier than me\\n\\nShe'll be called Saffron, Arabella or Louise\\nShe'll be beautiful exotic and have legs as long as trees\\nMeanwhile in the garden as you do\\nI'll be looking for a bunny I could use as rabbit stew\\n\\nCause I'm a going nowhere, sad case, loser\\nI only ever wanted to be happy, happy, happy\\nThat's all I want to be\\n\",\n",
       " \"\\n\\r\\nI don't know how it even started\\nI'd always thought that we were cool\\nBut recently there's been a change in your demeanor\\nYou're like those nasty girls from school\\nLook at you huddled 'round the table there\\nYou're like an argument with witches\\nAs I walk by you can't stop whispering and laughing\\nYou're just a bunch of sad old bitches\\n\\n[Pre-Chorus:]\\nI don't care, I've got better things to do\\nI will not be made to feel like shit by you\\nThere was a time, you don't impress me anymore\\nHere's your coat love, there's the door\\n\\n[Chorus:]\\nDon't you think it's time we went our separate ways\\nTo put it bluntly, please just get out my face\\nYeah you can scream and you can shout until you're blue\\nI don't mind babe, who the fuck are you?\\n\\nDo you create these situations\\nCause you've got nothing else to do\\nIt's like you've always got to have it in for someone\\nYou and your god forsaken crew\\nWell girls, I think your days are numbered\\nAnd I think you probably know that too\\nI know it's hard for you to hear, but you should listen\\nCause it's all absolutely true\\n\\n[Pre-Chorus]\\n\\n[Chorus]\\n\\nI know exactly how you operate\\nI've seen you do it time and time again\\nYou keep it up until there's something that you want from me\\nThen you'll decide that we're the best of friends\\n\\n[Pre-Chorus]\\n\\n[Chorus]\\n\\nI don't mind babe, who the fuck are you?\\n\",\n",
       " \"\\n\\r\\nI was born in the 80's\\nI'm a child of Thatcher and her mateys\\nFew things been happening lately\\nMr Cameron please sedate me \\nIt's all gone a bit Scargill\\nMove on man pay your bar bill\\nDon't forget to take your friends with you\\nI'm a red girl, I can't see blue\\n\\nSick of this sick of this go fuck your mum \\nSick of this coalition what you done?\\n[x4] \\n\\nBetter days better days better days are you round the corner?\\n'Cause we're waiting for ya\\nCome around and stay\\nAnd I pray and I pray and I pray that they're nearly here\\nNow I've got the fear\\nYeah we need a change \\n\\nI'm speaking for the UK now\\nJust clear your desk and go away now\\nYou must know you look stupid\\nAren't you losing seats now to UKIP?\\nYou're supposed to be our protector\\nWhat about the whole public sector\\nCover up them cuts, look rational\\nKnow all about you and news international\\n\\nSick of this sick of this go fuck your mum \\nSick of this coalition what you done?\\n[x4] \\n\\nBetter days better days better days are you round the corner\\n'Cause we're waiting for ya\\nCome around and stay\\nAnd I pray and I pray and I pray that they're nearly here\\nNow I've got the fear\\nYeah we need a change\\n\\nBetter days better days better days are you round the corner\\n'Cause we're waiting for ya\\nCome around and stay\\nAnd I pray and I pray and I pray that they're nearly here\\nNow I've got the fear\\nYeah we need a change\\n[x2]\\n\",\n",
       " \"\\n\\r\\nThese places, these faces,\\nthese people with their fake embraces\\nI, I wish that I fall down and die\\n\\nWhile they're talking\\nI'm walking,\\nI wave my hand up in the air\\nto say goodbye,\\nI don't know why\\nI even try\\n\\nThey don't even see me\\nthey don't even care\\nnobody needs me,\\nit's like I'm not there,\\nRelax and stay dry,\\ninto the night\\nI'll be just fine\\n'Cause one day I'll show you\\nand you'll feel like I do\\n\\nHe's quite funny, quite clever\\nhe knows his way around my reachings never,\\nhe won't get to see that stuff tonight\\nHe's so charming, it's alarming\\nI could be his trophy for the night,\\nbut I have lost the fight, \\nmuch to his delight.\\n\\nBut it's only dinner, it's not like a date\\nIf he wants to go there, he'll just have to wait\\nRelax and stay dry,\\ninto the night\\n\\nI'll be just fine [x3]\\n\",\n",
       " \"\\n\\r\\nWhen she was just a little girl\\nAnd she'd come home from school in tears\\nI dry her eyes and tell her it'll be alright\\nNow look at her, she's all grown up\\nWith nothing, but a broken heart\\nAnd I think to myself\\n\\nWhere did I go wrong\\nWhat more could I have done\\nHow could I have prepared her better\\n\\nIf only I could save her from her sadness\\nIf only I could take away her pain\\nIf only I could make her see\\nThere's plenty more fish in the sea\\nI know that I'd breath easily again\\n[x2]\\n\",\n",
       " \"\\n\\r\\nAll around me are familiar faces\\nWorn-out places, worn-out faces\\nBright and early for their daily races\\nGoing nowhere, going nowhere\\nTheir tears are filling up their glasses\\nNo expression, no expression\\nHide my head, I wanna drown my sorrow\\nNo tomorrow, no tomorrow\\n\\nAnd I find it kind of funny\\nI find it kind of sad\\nThe dreams in which I'm dying\\nAre the best I've ever had\\nI find it hard to tell you\\nI find it hard to take\\nWhen people run in circles\\nIt's a very, very\\nMad world, mad world\\n\\nChildren waiting for the day they feel good\\nHappy birthday, happy birthday\\nMade to feel the way that every child should\\nSit and listen, sit and listen\\nWent to school and I was very nervous\\nNo one knew me, no one knew me\\nHello, teacher, tell me what's my lesson\\nLook right through me, look right through me\\n\\nAnd I find it kind of funny\\nI find it kind of sad\\nThe dreams in which I'm dying\\nAre the best I've ever had\\nI find it hard to tell you\\nI find it hard to take\\nWhen people run in circles\\nIt's a very very\\nMad world, mad world\\nMad world, mad world\\n\",\n",
       " \"\\n\\r\\nLove doesn't cover it\\nIt's a whole new other thing\\nAnd you change every day\\nWhen you call out my name\\nThis is it\\n\\nAll that we went through\\nBefore we were sent you\\nWhat did I did before\\nWhat was I looking for\\nTo view\\n\\nDon't wanna miss a thing\\nAnd when I go to sleep\\nI see you in my dreams\\n'Cause you're a part of me\\nYou'll never be alone\\nAlthough I have to set you free\\nThe places you will go\\nWhen you leave\\n\\nDon't wanna miss a thing\\nAnd when I go to sleep\\nI see you in my dreams\\n'Cause you're a part of me\\nYou'll never be alone\\nAlthough I have to set you free\\nThe places you will go\\nWhen you leave\\n\",\n",
       " \"\\n\\r\\nI was just enjoying myself\\nI was minding my own business \\nI hear you come smiling into the room\\nAnybody would think you were Jesus\\n\\nWhere’d you get all that confidence\\nCan I get the name of your dealer?\\nI never liked you and I’m still on the fence\\nI might be jealous but I’m not a believer\\n\\nWhat do you say? What do you say? What do you say?\\nJust go away, just go away\\n\\nThis used to be my town (my town)\\nYou being here just brings me down\\nI die inside when you’re around (when you're around)\\nThis used to be my town\\n\\nI used to behave like you \\nI didn’t care about people around me\\nI couldn’t move, I was so up my own ass\\nThen reality came and found me\\n\\nNow its all fine, now its all fine, now its all fine\\nThis is your time, this is your time\\n\\nThis used to be my town (my town)\\nYou being here just brings me down\\nI die inside when you’re around (when you're around)\\nThis used to be my town\\n\\nIn a couple of years or so we’ll be having this conversation\\nThere’ll be a pretty young thing we know pulling up into our oil station\\n\\nThis used to be my town (my town)\\nYou being here just brings me down\\nI die inside when you’re around (when you're around)\\nThis used to be my town\\n\",\n",
       " '\\n\\r\\nDon’t you know it’s gonna rain\\nAll the things I said I do\\nI didn’t fix them, did I?\\nOn a plane, I don’t want to go away\\nI couldn’t help it, could I?\\n\\nI don’t want to drag you down\\nI’m just gonna shelter you\\nKeep you warm, safe and sound\\nIt’s not like you to listen to the crowd\\nIt’s just this dirty town\\n\\nIt goes on and on for days\\nFrom the curtain, we see stars\\nI didn’t stop that, did I?\\n\\nWhen the pain\\nWe get better just to find the same again\\nI couldn’t help it, could I?\\n\\nI don’t want to drag you down\\nI just gonna shelter you\\nKeep you warm, safe and sound\\nIt’s not like you to use your eyes like that on me\\nDon’t listen to the crowd\\n\\nIt’s just this dirty town\\nDon’t break me\\nDon’t break me\\nDon’t break me\\nDon’t break me\\n',\n",
       " \"\\n\\r\\nThere must be something wrong\\nYou've been gone for days\\nHanging out with strangers\\nGetting off your face\\nTomorrow you'll wake up in someone else's bed\\nYou don't know their name, you barely even met\\n\\nPut on last night's clothes\\nDo the walk of shame\\nGo to kiss goodbye\\nWon't see them again\\n\\nFinally you're home\\nPour a glass of red\\nWon't leave you alone\\nThose voices in your head\\n\\nI've told you what to do\\nWhy do you let them get to you?\\n\\nStop right there\\nWhen did you stop caring\\nYou used to light up the room\\nI swear now you best\\nTurn this round\\nDon't you dare\\nThrow the towel in too soon\\nI see fight in you\\nLife inside of you\\nIt's just not like you to lose\\n\\nSo what you're waiting for?\\nYou can have it all\\n\\nDon't you think it's time?\\nGive yourself a break\\nWorking yourself up\\nInto such a state\\nThink no one knows\\nWe don't understand\\nThink you've missed the boat\\nIt's gotten out of hand\\n\\nOpen up your eyes\\nStop burying your head\\nStuck on self-destruct\\nHere we go again\\nDon't pick up their calls\\nThose people aren't your friends\\nJust can't help yourself\\nWhy'd you let them in?\\n\\nI've told you what to do\\nWhy do you let them get to you?\\nStop right there\\nWhen did you stop caring?\\nYou used to light up the room\\nI swear now you best\\nTurn this round\\nDon't you dare\\nThrow the towel in too soon\\nI see fight in you\\nLife inside of you\\nIt's just not like you to lose\\nSo what you're waiting for?\\nYou can have it all\\n\\nI've told you what to do\\nWhy do you let them get to you?\\nStop right there\\nWhen did you stop caring?\\nYou used to light up the room\\nI swear now you best\\nTurn this round\\nDon't you dare\\nThrow the towel in too soon\\nI see fight in you\\nLife inside of you\\nIt's just not like you to lose\\nSo what you're waiting for?\\nYou can have it all\\n\",\n",
       " \"\\n\\r\\nDon't patronize me,\\nDon't think you have to let me down lightly.\\nI think you're disillusioned, you've confused me with someone who cares (who cares)\\nI've made my decision,\\nThey've offered me a job in television.\\nBefore I say farewell I hope to god you rot in hell,\\nI'll say a little prayer. (say a little prayer)\\n\\nWhat goes around, comes around\\n\\nWanker! Wanker! You're such a wanker!\\nNot today but, one day I'll thank her.\\nLoser! Loser! You're such a loser!\\nYou-ooh-ooh-ooh-ooh\\n\\nHope you get what you deserve,\\nHope you die in some absurd,\\nStupid ridiculous way.\\nHope you choke on you're own spit,\\nHope your wife chops off you're dick,\\nWhen she finds out you're secretly gay!\\n\\nWell actually that would make quite a lot of sense,\\nbecause you are really rubbish in bed.\\nBesides the point you're horrible and I hate you,\\nYou bastard you really are a horrible bastard.\\n\\nI've made my decision,\\nThey've offered me a job in television.\\nBefore I say farewell I hope to god you rot in hell,\\nI'll say a little prayer. (say a little prayer)\\n\\nWhat goes around, comes around\\n\\nWanker! Wanker! You're such a wanker!\\nNot today but, one day I'll thank her.\\nLoser! Loser! You're such a loser!\\nYou-ooh-ooh-ooh-ooh\\n\",\n",
       " \"\\n\\r\\nWhy aren't I one of these interesting people, who's always got something to say.\\nTo not be contrived, and to feel so alive, and to never, have wasted, a day.\\nTo go for long walks, have well informed talks, in a non-confrontational way.\\nWhy aren't I one of these interesting people and why won't you stay?\\n\\nI'm still having the same conversation\\nI've been having for years,\\nI just want to read and retain information,\\nJust face up to my fears.\\nI look at myself and it's so plain to see.\\nAll I need is to change, change.\\nNot too much I still want to be me.\\nEveryone looks the same.\\n\\nWhy is my phone full of so many numbers, and why doesn't anyone call?\\nMaybe they think that I'm always too busy, or maybe I've no friends at all.\\nWhile I'm watching TV, they're all out necking E's and while obviously I'm appalled.\\nWhy is my phone full of so many numbers and why don't you call? \\n\\nI'm still having the same conversation\\nI've been having for years,\\nI just want to read and retain information,\\nJust face up to my fears.\\nI look at myself and it's so plain to see.\\nAll I need is to change, change.\\nNot too much I still want to be me.\\nEveryone looks the same.\\n\\nI'm still having the same conversation\\nI've been having for years,\\nI just want to read and retain information,\\nJust face up to my fears.\\nI look at myself and it's so plain to see.\\nAll I need is to change, change.\\nNot too much I still want to be me.\\nEveryone looks the same.\\n\",\n",
       " \"\\n\\r\\nSuperstar\\nWhere you from, how's it going?\\nI know you\\nGotta clue, what you're doing?\\nYou can play brand new to all the other chicks out here\\nBut I know what you are, what you are, baby\\n\\nLook at you\\nGettin' more than just re-up\\nBaby, you\\nGot all the puppets with their strings up\\nFakin' like a good one, but I call 'em like I see 'em\\nI know what you are, what you are, baby\\n\\nWomanizer, woman-womanizer, you're a womanizer\\nOh, womanizer, oh, you're a womanizer, baby\\nYou, You, You are, you, you, you are\\nWomanizer, womanizer, womanizer (womanizer)\\nBoy, don't try to front. I-I know just-just what you are-a-a\\nBoy, don't try to front. I-I know just-just what you are-a-a\\nYou got me going, you also charming, but I can do it, you womanizer\\nBoy, don't try to front. I-I know just-just what you are-a-a\\nBoy, don't try to front. I-I know just-just what you are-a-a\\nYou say I'm Crazy, I got you crazy, you're nothing but a womanizer\\n\\nDaddy-O\\nYou got the swagger of champions\\nSo bad for you\\nJust can't find the right companion\\nI guess when you have one too many, makes it hard\\nIt could be easy, who you are, that's who you are baby\\nLollipop\\nMust mistake me as a sucker\\nTo think that I\\nWould be a victim not another\\nSay it, play it how you wanna, but no way\\nI'm ever gonna fall for you, never you, baby\\n\\nWomanizer, woman-womanizer, you're a womanizer\\nOh, womanizer, oh, you're a womanizer, baby\\nYou, You, You are, you, you, you are\\nWomanizer, womanizer, womanizer (womanizer)\\nBoy, don't try to front. I-I know just-just what you are-a-a\\nBoy, don't try to front. I-I know just-just what you are-a-a\\nYou got me going, you also charming, but I can do it, you womanizer\\nBoy, don't try to front. I-I know just-just what you are-a-a\\nBoy, don't try to front. I-I know just-just what you are-a-a\\nYou say I'm Crazy, I got you crazy, you're nothing but a womanizer\\n\\nMaybe if we both lived in a different world\\nIt would be all good, and maybe I could be yaw girl\\nBut I can't 'cause we don't\\nWomanizer, woman-womanizer, you're a womanizer\\nOh, womanizer, oh, you're a womanizer, baby\\nYou, You, You are, you, you, you are\\nWomanizer, womanizer, womanizer (womanizer)\\nBoy, don't try to front. I-I know just-just what you are-a-a\\nBoy, don't try to front. I-I know just-just what you are-a-a\\nYou got me going, you also charming, but I can do it, you womanizer\\nBoy, don't try to front. I-I know just-just what you are-a-a\\nBoy, don't try to front. I-I know just-just what you are-a-a\\nYou say I'm Crazy, I got you crazy, you're nothing but a womanizer\\nBoy, don't try to front. I-I know just-just what you are-a-a\\nBoy, don't try to front. I-I know just-just what you are-a-a\\nWomanizer, woman-womanizer, you're a womanizer\\nOh, womanizer, oh, you're a womanizer, baby\\n\",\n",
       " \"\\n\\r\\nI can hear a grumble in the corner of the room\\nIt's calling me and getting louder, I can feel impending doom \\nI try to concentrate on something else\\nbut it teases me so easily and then I find\\nIts ever so sensational, its almost gravitational\\nThe way it pulls me over,\\nWell its sen-satiable\\nIts too inviting, too exciting\\nRefrigerator one, Bridget null\\n\\nIts just too\\n\\nYummy! Yum yummy, scrummy.\\nIts so [?]\\nIts not right but I can't help myself.\\nYummy! Yum in my tummy.\\nMight seem quite funny,\\nBut we all know that soon I wont be low\\n\\nI like to spend my evening on the sofa in pajamas.\\nI like reading magazines and books by Dali Lamas.\\nWhat I really like to do is,\\nturn the telly on and scarf my face.\\nIts never unconditional, fudge is not nutritional.\\nNor is full fat cola.\\nHagaan daas with chocolate chips are emigrating to me hips.\\nRefrigerator two, Bridget null \\n\\nYummy! Yum yummy, scrummy.\\nIts so [?]\\nIts not right but I can't help myself.\\nYummy! Yum in my tummy.\\nMight seem quite funny,\\nBut we all know that soon I wont be low\\n\\n(YUMMY!)\\n\\n[chorus fade out]\\n\"]"
      ]
     },
     "execution_count": 20,
     "metadata": {},
     "output_type": "execute_result"
    }
   ],
   "source": [
    "lyrics\n"
   ]
  },
  {
   "cell_type": "markdown",
   "metadata": {},
   "source": [
    "## Visualizing\n",
    "Generate two bar graphs to compare lyrical changes for the artist of your chose. For example, the two bar charts could compare the lyrics for two different songs or two different albums."
   ]
  },
  {
   "cell_type": "code",
   "execution_count": 22,
   "metadata": {},
   "outputs": [
    {
     "data": {
      "text/html": [
       "<div>\n",
       "<style scoped>\n",
       "    .dataframe tbody tr th:only-of-type {\n",
       "        vertical-align: middle;\n",
       "    }\n",
       "\n",
       "    .dataframe tbody tr th {\n",
       "        vertical-align: top;\n",
       "    }\n",
       "\n",
       "    .dataframe thead th {\n",
       "        text-align: right;\n",
       "    }\n",
       "</style>\n",
       "<table border=\"1\" class=\"dataframe\">\n",
       "  <thead>\n",
       "    <tr style=\"text-align: right;\">\n",
       "      <th></th>\n",
       "      <th>0</th>\n",
       "      <th>1</th>\n",
       "    </tr>\n",
       "  </thead>\n",
       "  <tbody>\n",
       "    <tr>\n",
       "      <th>0</th>\n",
       "      <td>(Smile, ../lyrics/lilyallen/smile.html, album:...</td>\n",
       "      <td>\\n\\r\\nWhen you first left me I was wanting mor...</td>\n",
       "    </tr>\n",
       "    <tr>\n",
       "      <th>1</th>\n",
       "      <td>(Knock 'Em Out, ../lyrics/lilyallen/knockemout...</td>\n",
       "      <td>\\n\\r\\nAlright so this is a song about anyone, ...</td>\n",
       "    </tr>\n",
       "    <tr>\n",
       "      <th>2</th>\n",
       "      <td>(LDN, ../lyrics/lilyallen/ldn.html, album: \"Al...</td>\n",
       "      <td>\\n\\r\\nRiding through the city on my bike all d...</td>\n",
       "    </tr>\n",
       "    <tr>\n",
       "      <th>3</th>\n",
       "      <td>(Everything's Just Wonderful, ../lyrics/lilyal...</td>\n",
       "      <td>\\n\\r\\nDo you think, everything, everyone, is g...</td>\n",
       "    </tr>\n",
       "    <tr>\n",
       "      <th>4</th>\n",
       "      <td>(Not Big, ../lyrics/lilyallen/notbig.html, alb...</td>\n",
       "      <td>\\n\\r\\nNow listen I think you and me have come ...</td>\n",
       "    </tr>\n",
       "  </tbody>\n",
       "</table>\n",
       "</div>"
      ],
      "text/plain": [
       "                                                   0  \\\n",
       "0  (Smile, ../lyrics/lilyallen/smile.html, album:...   \n",
       "1  (Knock 'Em Out, ../lyrics/lilyallen/knockemout...   \n",
       "2  (LDN, ../lyrics/lilyallen/ldn.html, album: \"Al...   \n",
       "3  (Everything's Just Wonderful, ../lyrics/lilyal...   \n",
       "4  (Not Big, ../lyrics/lilyallen/notbig.html, alb...   \n",
       "\n",
       "                                                   1  \n",
       "0  \\n\\r\\nWhen you first left me I was wanting mor...  \n",
       "1  \\n\\r\\nAlright so this is a song about anyone, ...  \n",
       "2  \\n\\r\\nRiding through the city on my bike all d...  \n",
       "3  \\n\\r\\nDo you think, everything, everyone, is g...  \n",
       "4  \\n\\r\\nNow listen I think you and me have come ...  "
      ]
     },
     "execution_count": 22,
     "metadata": {},
     "output_type": "execute_result"
    }
   ],
   "source": [
    "#Use this block for your code!\n",
    "import pandas as pd\n",
    "df = pd.DataFrame(list(zip(songs, lyrics)))\n",
    "df.head()\n"
   ]
  },
  {
   "cell_type": "code",
   "execution_count": 23,
   "metadata": {},
   "outputs": [
    {
     "data": {
      "text/html": [
       "<div>\n",
       "<style scoped>\n",
       "    .dataframe tbody tr th:only-of-type {\n",
       "        vertical-align: middle;\n",
       "    }\n",
       "\n",
       "    .dataframe tbody tr th {\n",
       "        vertical-align: top;\n",
       "    }\n",
       "\n",
       "    .dataframe thead th {\n",
       "        text-align: right;\n",
       "    }\n",
       "</style>\n",
       "<table border=\"1\" class=\"dataframe\">\n",
       "  <thead>\n",
       "    <tr style=\"text-align: right;\">\n",
       "      <th></th>\n",
       "      <th>0</th>\n",
       "      <th>Lyrics</th>\n",
       "      <th>Song</th>\n",
       "      <th>Album</th>\n",
       "    </tr>\n",
       "  </thead>\n",
       "  <tbody>\n",
       "    <tr>\n",
       "      <th>0</th>\n",
       "      <td>(Smile, ../lyrics/lilyallen/smile.html, album:...</td>\n",
       "      <td>\\n\\r\\nWhen you first left me I was wanting mor...</td>\n",
       "      <td>Smile</td>\n",
       "      <td>album: \"Alright, Still\" (2006)</td>\n",
       "    </tr>\n",
       "    <tr>\n",
       "      <th>1</th>\n",
       "      <td>(Knock 'Em Out, ../lyrics/lilyallen/knockemout...</td>\n",
       "      <td>\\n\\r\\nAlright so this is a song about anyone, ...</td>\n",
       "      <td>Knock 'Em Out</td>\n",
       "      <td>album: \"Alright, Still\" (2006)</td>\n",
       "    </tr>\n",
       "    <tr>\n",
       "      <th>2</th>\n",
       "      <td>(LDN, ../lyrics/lilyallen/ldn.html, album: \"Al...</td>\n",
       "      <td>\\n\\r\\nRiding through the city on my bike all d...</td>\n",
       "      <td>LDN</td>\n",
       "      <td>album: \"Alright, Still\" (2006)</td>\n",
       "    </tr>\n",
       "    <tr>\n",
       "      <th>3</th>\n",
       "      <td>(Everything's Just Wonderful, ../lyrics/lilyal...</td>\n",
       "      <td>\\n\\r\\nDo you think, everything, everyone, is g...</td>\n",
       "      <td>Everything's Just Wonderful</td>\n",
       "      <td>album: \"Alright, Still\" (2006)</td>\n",
       "    </tr>\n",
       "    <tr>\n",
       "      <th>4</th>\n",
       "      <td>(Not Big, ../lyrics/lilyallen/notbig.html, alb...</td>\n",
       "      <td>\\n\\r\\nNow listen I think you and me have come ...</td>\n",
       "      <td>Not Big</td>\n",
       "      <td>album: \"Alright, Still\" (2006)</td>\n",
       "    </tr>\n",
       "  </tbody>\n",
       "</table>\n",
       "</div>"
      ],
      "text/plain": [
       "                                                   0  \\\n",
       "0  (Smile, ../lyrics/lilyallen/smile.html, album:...   \n",
       "1  (Knock 'Em Out, ../lyrics/lilyallen/knockemout...   \n",
       "2  (LDN, ../lyrics/lilyallen/ldn.html, album: \"Al...   \n",
       "3  (Everything's Just Wonderful, ../lyrics/lilyal...   \n",
       "4  (Not Big, ../lyrics/lilyallen/notbig.html, alb...   \n",
       "\n",
       "                                              Lyrics  \\\n",
       "0  \\n\\r\\nWhen you first left me I was wanting mor...   \n",
       "1  \\n\\r\\nAlright so this is a song about anyone, ...   \n",
       "2  \\n\\r\\nRiding through the city on my bike all d...   \n",
       "3  \\n\\r\\nDo you think, everything, everyone, is g...   \n",
       "4  \\n\\r\\nNow listen I think you and me have come ...   \n",
       "\n",
       "                          Song                           Album  \n",
       "0                        Smile  album: \"Alright, Still\" (2006)  \n",
       "1                Knock 'Em Out  album: \"Alright, Still\" (2006)  \n",
       "2                          LDN  album: \"Alright, Still\" (2006)  \n",
       "3  Everything's Just Wonderful  album: \"Alright, Still\" (2006)  \n",
       "4                      Not Big  album: \"Alright, Still\" (2006)  "
      ]
     },
     "execution_count": 23,
     "metadata": {},
     "output_type": "execute_result"
    }
   ],
   "source": [
    "df['Song'] = df[0].map(lambda x: x[0])\n",
    "df['Album'] = df[0].map(lambda x: x[2])\n",
    "df = df.rename(columns={1:'Lyrics'})\n",
    "df.head()"
   ]
  },
  {
   "cell_type": "code",
   "execution_count": 27,
   "metadata": {},
   "outputs": [
    {
     "name": "stdout",
     "output_type": "stream",
     "text": [
      "1625\n",
      "1761\n",
      "1744\n"
     ]
    }
   ],
   "source": [
    "print(len(df.Lyrics[0]))\n",
    "print(len(df.Lyrics[1]))\n",
    "print(len(df.Lyrics[2]))"
   ]
  },
  {
   "cell_type": "code",
   "execution_count": 45,
   "metadata": {},
   "outputs": [
    {
     "data": {
      "text/plain": [
       "I         27\n",
       "you       16\n",
       "me        14\n",
       "a         12\n",
       "it        10\n",
       "smile      8\n",
       "smile,     8\n",
       "makes      8\n",
       "At         8\n",
       "But        7\n",
       "dtype: int64"
      ]
     },
     "execution_count": 45,
     "metadata": {},
     "output_type": "execute_result"
    }
   ],
   "source": [
    "pd.Series(df.Lyrics.iloc[0].split()).value_counts()[:10]\n"
   ]
  },
  {
   "cell_type": "code",
   "execution_count": 46,
   "metadata": {},
   "outputs": [
    {
     "data": {
      "text/plain": [
       "a       13\n",
       "the      8\n",
       "you      6\n",
       "I've     6\n",
       "to       5\n",
       "on       5\n",
       "away     4\n",
       "just     4\n",
       "got      4\n",
       "my       4\n",
       "dtype: int64"
      ]
     },
     "execution_count": 46,
     "metadata": {},
     "output_type": "execute_result"
    }
   ],
   "source": [
    "pd.Series(df.Lyrics.iloc[1].split()).value_counts()[:10]\n"
   ]
  },
  {
   "cell_type": "code",
   "execution_count": null,
   "metadata": {},
   "outputs": [],
   "source": []
  },
  {
   "cell_type": "code",
   "execution_count": 44,
   "metadata": {},
   "outputs": [],
   "source": [
    "import matplotlib.pyplot as plt\n",
    "import seaborn as sns\n",
    "%matplotlib inline\n",
    "sns.set_style('whitegrid')"
   ]
  },
  {
   "cell_type": "code",
   "execution_count": 48,
   "metadata": {},
   "outputs": [
    {
     "data": {
      "text/plain": [
       "Text(0.5,1,\"Top 10 Lyrics for Knock 'Em Out\")"
      ]
     },
     "execution_count": 48,
     "metadata": {},
     "output_type": "execute_result"
    },
    {
     "data": {
      "image/png": "[encoded data removed]",
      "text/plain": [
       "<Figure size 720x576 with 2 Axes>"
      ]
     },
     "metadata": {},
     "output_type": "display_data"
    }
   ],
   "source": [
    "fig, axes = plt.subplots(1,2, figsize=(10,8))\n",
    "#Get top 10 words\n",
    "top10 = pd.Series(df.Lyrics.iloc[0].split()).value_counts()[:10]\n",
    "#Plot as bar graph\n",
    "top10.plot(ax=axes[0], kind='barh')\n",
    "#Add Subplot Title\n",
    "axes[0].set_title('Top 10 Lyrics for {}'.format(df['Song'].iloc[0]))\n",
    "#Repeat\n",
    "#Get top 10 words\n",
    "top10 = pd.Series(df.Lyrics.iloc[1].split()).value_counts()[:10]\n",
    "#Plot as bar graph\n",
    "top10.plot(ax=axes[1], kind='barh')\n",
    "#Add Subplot Title\n",
    "axes[1].set_title('Top 10 Lyrics for {}'.format(df['Song'].iloc[1]))"
   ]
  },
  {
   "cell_type": "markdown",
   "metadata": {},
   "source": [
    "## Level - Up\n",
    "\n",
    "Think about how you structured the data from your web scraper. Did you scrape the entire song lyrics verbatim? Did you simply store the words and their frequency counts, or did you do something else entirely? List out a few different options for how you could have stored this data. What are advantages and disadvantages of each? Be specific and think about what sort of analyses each representation would lend itself to."
   ]
  },
  {
   "cell_type": "code",
   "execution_count": null,
   "metadata": {},
   "outputs": [],
   "source": []
  },
  {
   "cell_type": "code",
   "execution_count": null,
   "metadata": {},
   "outputs": [],
   "source": [
    "#Use this block for your code!"
   ]
  },
  {
   "cell_type": "markdown",
   "metadata": {},
   "source": [
    "## Summary"
   ]
  },
  {
   "cell_type": "markdown",
   "metadata": {},
   "source": [
    "Congratulations! You've now practiced your Beautiful Soup knowledge!"
   ]
  }
 ],
 "metadata": {
  "kernelspec": {
   "display_name": "Python 3",
   "language": "python",
   "name": "python3"
  },
  "language_info": {
   "codemirror_mode": {
    "name": "ipython",
    "version": 3
   },
   "file_extension": ".py",
   "mimetype": "text/x-python",
   "name": "python",
   "nbconvert_exporter": "python",
   "pygments_lexer": "ipython3",
   "version": "3.7.0"
  }
 },
 "nbformat": 4,
 "nbformat_minor": 2
}
